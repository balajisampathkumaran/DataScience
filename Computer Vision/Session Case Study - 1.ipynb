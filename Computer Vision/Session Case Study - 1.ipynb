{
 "cells": [
  {
   "cell_type": "markdown",
   "metadata": {
    "colab_type": "text",
    "id": "RezYgXqibogE"
   },
   "source": [
    "## Semantic Segmentation\n",
    "\n",
    "Semantic segmentation, which is a pixel-level labeling for image classification, is an important technique for the scene understanding. Because each pixel is labeled as belonging to a given semantic class. \n",
    "\n",
    "Autonomous driving will be one of the revolutionary technologies in the near future in terms of the impact on the lives of people living in industrially developed\n",
    "countries. An autonomous vehicle must sense its surroundings and act safely to reach a certain target. Such functionality is carried out by using several types of classifiers. \n",
    "\n",
    "In a typical task of scene understanding, the classes could be road, street, traffic signs, street markings, cars, pedestrians, sidewalks, trees. \n",
    "\n",
    "\n",
    "### In this notebook, we are implementing U-net model which can detect capture the semantic information and differentiate between different objects around in the scene. "
   ]
  },
  {
   "cell_type": "code",
   "execution_count": 43,
   "metadata": {
    "colab": {
     "base_uri": "https://localhost:8080/",
     "height": 34
    },
    "colab_type": "code",
    "id": "rNIGEPwbqFCa",
    "outputId": "67ceb294-b8ab-436e-d6b9-a7302e627d78"
   },
   "outputs": [
    {
     "name": "stdout",
     "output_type": "stream",
     "text": [
      "Drive already mounted at /content/drive/; to attempt to forcibly remount, call drive.mount(\"/content/drive/\", force_remount=True).\n"
     ]
    }
   ],
   "source": [
    "from google.colab import drive\n",
    "drive.mount('/content/drive/')"
   ]
  },
  {
   "cell_type": "markdown",
   "metadata": {
    "colab_type": "text",
    "id": "GEzZgu1hfYQD"
   },
   "source": [
    "### Dataset link\n",
    "\n",
    "https://drive.google.com/file/d/1GT3k4nPHLmU6AbQldYhw0c2rTOxAgNUW"
   ]
  },
  {
   "cell_type": "code",
   "execution_count": 0,
   "metadata": {
    "colab": {},
    "colab_type": "code",
    "id": "lWqE8dM0qPTv"
   },
   "outputs": [],
   "source": [
    "import os\n",
    "os.chdir('/content/drive/My Drive/AIML Notes/Segmentation/')\n",
    "path = '.'"
   ]
  },
  {
   "cell_type": "code",
   "execution_count": 45,
   "metadata": {
    "colab": {
     "base_uri": "https://localhost:8080/",
     "height": 34
    },
    "colab_type": "code",
    "id": "M8HBJNy_xQEj",
    "outputId": "d8e3ecd9-f42a-4d11-8de9-77b7c3bc0e2d"
   },
   "outputs": [
    {
     "name": "stdout",
     "output_type": "stream",
     "text": [
      "data_semantics.zip  model.h5  model.json  \u001b[0m\u001b[01;34mtesting\u001b[0m/  \u001b[01;34mtraining\u001b[0m/\n"
     ]
    }
   ],
   "source": [
    "ls"
   ]
  },
  {
   "cell_type": "code",
   "execution_count": 0,
   "metadata": {
    "colab": {},
    "colab_type": "code",
    "id": "6qPSitlIqJrb"
   },
   "outputs": [],
   "source": [
    "from zipfile import ZipFile\n",
    "with ZipFile('/content/drive/My Drive/AIML Notes/Segmentation/data_semantics.zip','r') as z:\n",
    "    z.extractall()"
   ]
  },
  {
   "cell_type": "code",
   "execution_count": 47,
   "metadata": {
    "colab": {
     "base_uri": "https://localhost:8080/",
     "height": 34
    },
    "colab_type": "code",
    "id": "K9bjl6uD7j2P",
    "outputId": "babb644d-ff67-4eeb-e357-c89dcb317923"
   },
   "outputs": [
    {
     "data": {
      "text/plain": [
       "'/content/drive/My Drive/AIML Notes/Segmentation'"
      ]
     },
     "execution_count": 47,
     "metadata": {
      "tags": []
     },
     "output_type": "execute_result"
    }
   ],
   "source": [
    "pwd"
   ]
  },
  {
   "cell_type": "code",
   "execution_count": 0,
   "metadata": {
    "colab": {},
    "colab_type": "code",
    "id": "SYT7Il9k8gQt"
   },
   "outputs": [],
   "source": [
    "project_path = \"/content/drive/My Drive/AIML Notes/Segmentation/\""
   ]
  },
  {
   "cell_type": "code",
   "execution_count": 0,
   "metadata": {
    "colab": {},
    "colab_type": "code",
    "id": "TgO-b0xUQzAZ"
   },
   "outputs": [],
   "source": [
    "#Image Settings -\n",
    "\n",
    "IMAGE_HEIGHT = 128\n",
    "IMAGE_WIDTH = 128\n"
   ]
  },
  {
   "cell_type": "code",
   "execution_count": 0,
   "metadata": {
    "colab": {},
    "colab_type": "code",
    "id": "0pgWJznvQ3wu"
   },
   "outputs": [],
   "source": [
    "#Getting the image list \n",
    "\n",
    "original  = os.listdir('./training/image_2')"
   ]
  },
  {
   "cell_type": "code",
   "execution_count": 51,
   "metadata": {
    "colab": {
     "base_uri": "https://localhost:8080/",
     "height": 54
    },
    "colab_type": "code",
    "id": "SGzaZG6y7xg0",
    "outputId": "297bf40c-8a3c-48df-f932-a524ac626186"
   },
   "outputs": [
    {
     "name": "stdout",
     "output_type": "stream",
     "text": [
      "['000000_10.png', '000001_10.png', '000002_10.png', '000003_10.png', '000004_10.png', '000005_10.png', '000006_10.png', '000007_10.png', '000008_10.png', '000009_10.png', '000010_10.png', '000011_10.png', '000012_10.png', '000013_10.png', '000014_10.png', '000015_10.png', '000016_10.png', '000017_10.png', '000018_10.png', '000019_10.png', '000020_10.png', '000021_10.png', '000022_10.png', '000023_10.png', '000024_10.png', '000025_10.png', '000026_10.png', '000027_10.png', '000028_10.png', '000029_10.png', '000030_10.png', '000031_10.png', '000032_10.png', '000033_10.png', '000034_10.png', '000035_10.png', '000036_10.png', '000037_10.png', '000038_10.png', '000039_10.png', '000040_10.png', '000041_10.png', '000042_10.png', '000043_10.png', '000044_10.png', '000045_10.png', '000046_10.png', '000047_10.png', '000048_10.png', '000049_10.png', '000050_10.png', '000051_10.png', '000052_10.png', '000053_10.png', '000054_10.png', '000055_10.png', '000056_10.png', '000057_10.png', '000058_10.png', '000059_10.png', '000060_10.png', '000061_10.png', '000062_10.png', '000063_10.png', '000064_10.png', '000065_10.png', '000066_10.png', '000067_10.png', '000068_10.png', '000069_10.png', '000070_10.png', '000071_10.png', '000072_10.png', '000073_10.png', '000074_10.png', '000075_10.png', '000076_10.png', '000077_10.png', '000078_10.png', '000079_10.png', '000080_10.png', '000081_10.png', '000082_10.png', '000083_10.png', '000084_10.png', '000085_10.png', '000086_10.png', '000087_10.png', '000088_10.png', '000089_10.png', '000090_10.png', '000091_10.png', '000092_10.png', '000093_10.png', '000094_10.png', '000095_10.png', '000096_10.png', '000097_10.png', '000098_10.png', '000099_10.png', '000100_10.png', '000101_10.png', '000102_10.png', '000103_10.png', '000104_10.png', '000105_10.png', '000106_10.png', '000107_10.png', '000108_10.png', '000109_10.png', '000110_10.png', '000111_10.png', '000112_10.png', '000113_10.png', '000114_10.png', '000115_10.png', '000116_10.png', '000117_10.png', '000118_10.png', '000119_10.png', '000120_10.png', '000121_10.png', '000122_10.png', '000123_10.png', '000124_10.png', '000125_10.png', '000126_10.png', '000127_10.png', '000128_10.png', '000129_10.png', '000130_10.png', '000131_10.png', '000132_10.png', '000133_10.png', '000134_10.png', '000135_10.png', '000136_10.png', '000137_10.png', '000138_10.png', '000139_10.png', '000140_10.png', '000141_10.png', '000142_10.png', '000143_10.png', '000144_10.png', '000145_10.png', '000146_10.png', '000147_10.png', '000148_10.png', '000149_10.png', '000150_10.png', '000151_10.png', '000152_10.png', '000153_10.png', '000154_10.png', '000155_10.png', '000156_10.png', '000157_10.png', '000158_10.png', '000159_10.png', '000160_10.png', '000161_10.png', '000162_10.png', '000163_10.png', '000164_10.png', '000165_10.png', '000166_10.png', '000167_10.png', '000168_10.png', '000169_10.png', '000170_10.png', '000171_10.png', '000172_10.png', '000173_10.png', '000174_10.png', '000175_10.png', '000176_10.png', '000177_10.png', '000178_10.png', '000179_10.png', '000180_10.png', '000181_10.png', '000182_10.png', '000183_10.png', '000184_10.png', '000185_10.png', '000186_10.png', '000187_10.png', '000188_10.png', '000189_10.png', '000190_10.png', '000191_10.png', '000192_10.png', '000193_10.png', '000194_10.png', '000195_10.png', '000196_10.png', '000197_10.png', '000198_10.png', '000199_10.png']\n"
     ]
    }
   ],
   "source": [
    "print(original)"
   ]
  },
  {
   "cell_type": "code",
   "execution_count": 0,
   "metadata": {
    "colab": {},
    "colab_type": "code",
    "id": "-bXRMCtP8_c4"
   },
   "outputs": [],
   "source": [
    "masks  = os.listdir('./training/semantic')"
   ]
  },
  {
   "cell_type": "code",
   "execution_count": 53,
   "metadata": {
    "colab": {
     "base_uri": "https://localhost:8080/",
     "height": 54
    },
    "colab_type": "code",
    "id": "_a5ABHPV8_fS",
    "outputId": "3a9fec25-ec3a-4e9d-bcc8-38dfcf7ea07c"
   },
   "outputs": [
    {
     "name": "stdout",
     "output_type": "stream",
     "text": [
      "['000000_10.png', '000001_10.png', '000002_10.png', '000003_10.png', '000004_10.png', '000005_10.png', '000006_10.png', '000007_10.png', '000008_10.png', '000009_10.png', '000010_10.png', '000011_10.png', '000012_10.png', '000013_10.png', '000014_10.png', '000015_10.png', '000016_10.png', '000017_10.png', '000018_10.png', '000019_10.png', '000020_10.png', '000021_10.png', '000022_10.png', '000023_10.png', '000024_10.png', '000025_10.png', '000026_10.png', '000027_10.png', '000028_10.png', '000029_10.png', '000030_10.png', '000031_10.png', '000032_10.png', '000033_10.png', '000034_10.png', '000035_10.png', '000036_10.png', '000037_10.png', '000038_10.png', '000039_10.png', '000040_10.png', '000041_10.png', '000042_10.png', '000043_10.png', '000044_10.png', '000045_10.png', '000046_10.png', '000047_10.png', '000048_10.png', '000049_10.png', '000050_10.png', '000051_10.png', '000052_10.png', '000053_10.png', '000054_10.png', '000055_10.png', '000056_10.png', '000057_10.png', '000058_10.png', '000059_10.png', '000060_10.png', '000061_10.png', '000062_10.png', '000063_10.png', '000064_10.png', '000065_10.png', '000066_10.png', '000067_10.png', '000068_10.png', '000069_10.png', '000070_10.png', '000071_10.png', '000072_10.png', '000073_10.png', '000074_10.png', '000075_10.png', '000076_10.png', '000077_10.png', '000078_10.png', '000079_10.png', '000080_10.png', '000081_10.png', '000082_10.png', '000083_10.png', '000084_10.png', '000085_10.png', '000086_10.png', '000087_10.png', '000088_10.png', '000089_10.png', '000090_10.png', '000091_10.png', '000092_10.png', '000093_10.png', '000094_10.png', '000095_10.png', '000096_10.png', '000097_10.png', '000098_10.png', '000099_10.png', '000100_10.png', '000101_10.png', '000102_10.png', '000103_10.png', '000104_10.png', '000105_10.png', '000106_10.png', '000107_10.png', '000108_10.png', '000109_10.png', '000110_10.png', '000111_10.png', '000112_10.png', '000113_10.png', '000114_10.png', '000115_10.png', '000116_10.png', '000117_10.png', '000118_10.png', '000119_10.png', '000120_10.png', '000121_10.png', '000122_10.png', '000123_10.png', '000124_10.png', '000125_10.png', '000126_10.png', '000127_10.png', '000128_10.png', '000129_10.png', '000130_10.png', '000131_10.png', '000132_10.png', '000133_10.png', '000134_10.png', '000135_10.png', '000136_10.png', '000137_10.png', '000138_10.png', '000139_10.png', '000140_10.png', '000141_10.png', '000142_10.png', '000143_10.png', '000144_10.png', '000145_10.png', '000146_10.png', '000147_10.png', '000148_10.png', '000149_10.png', '000150_10.png', '000151_10.png', '000152_10.png', '000153_10.png', '000154_10.png', '000155_10.png', '000156_10.png', '000157_10.png', '000158_10.png', '000159_10.png', '000160_10.png', '000161_10.png', '000162_10.png', '000163_10.png', '000164_10.png', '000165_10.png', '000166_10.png', '000167_10.png', '000168_10.png', '000169_10.png', '000170_10.png', '000171_10.png', '000172_10.png', '000173_10.png', '000174_10.png', '000175_10.png', '000176_10.png', '000177_10.png', '000178_10.png', '000179_10.png', '000180_10.png', '000181_10.png', '000182_10.png', '000183_10.png', '000184_10.png', '000185_10.png', '000186_10.png', '000187_10.png', '000188_10.png', '000189_10.png', '000190_10.png', '000191_10.png', '000192_10.png', '000193_10.png', '000194_10.png', '000195_10.png', '000196_10.png', '000197_10.png', '000198_10.png', '000199_10.png']\n"
     ]
    }
   ],
   "source": [
    "print(masks)"
   ]
  },
  {
   "cell_type": "code",
   "execution_count": 0,
   "metadata": {
    "colab": {},
    "colab_type": "code",
    "id": "PKX48W3mQ5xJ"
   },
   "outputs": [],
   "source": [
    "#Separating  mask and images \n",
    "# masks = []\n",
    "# original = []\n",
    "# for filename in mylist:\n",
    "#     if filename.endswith('.png'):\n",
    "#         masks.append(filename)\n",
    "#     if filename.endswith('.jpg'):\n",
    "#         original.append(filename)"
   ]
  },
  {
   "cell_type": "code",
   "execution_count": 0,
   "metadata": {
    "colab": {},
    "colab_type": "code",
    "id": "20vDqLTKRGgt"
   },
   "outputs": [],
   "source": [
    "#Sorting\n",
    "original.sort()\n",
    "masks.sort()"
   ]
  },
  {
   "cell_type": "code",
   "execution_count": 56,
   "metadata": {
    "colab": {
     "base_uri": "https://localhost:8080/",
     "height": 85
    },
    "colab_type": "code",
    "id": "TTNrYf2mRV-5",
    "outputId": "1d013427-e0a9-47b8-c71f-77c71be33af1"
   },
   "outputs": [
    {
     "name": "stdout",
     "output_type": "stream",
     "text": [
      "000199_10.png\n",
      "000199_10.png\n",
      "000001_10.png\n",
      "000001_10.png\n"
     ]
    }
   ],
   "source": [
    "#Checkout image names\n",
    "print(original[-1])\n",
    "print(masks[-1])\n",
    "print(original[1])\n",
    "print(masks[1])\n"
   ]
  },
  {
   "cell_type": "code",
   "execution_count": 0,
   "metadata": {
    "colab": {},
    "colab_type": "code",
    "id": "SEArt-hSRdM6"
   },
   "outputs": [],
   "source": [
    "import cv2\n",
    "import matplotlib.pyplot as plt"
   ]
  },
  {
   "cell_type": "code",
   "execution_count": 0,
   "metadata": {
    "colab": {},
    "colab_type": "code",
    "id": "AOa_eoYgRjDg"
   },
   "outputs": [],
   "source": [
    "#Get the data -  X and y\n",
    "import numpy as np\n",
    "\n",
    "y = np.zeros((len(masks), IMAGE_HEIGHT, IMAGE_WIDTH, 3), dtype=np.float32)\n",
    "\n",
    "X = np.zeros((len(original), IMAGE_HEIGHT, IMAGE_WIDTH, 3), dtype=np.float32)\n",
    "\n",
    "for file in original:\n",
    "    n = original.index(file)\n",
    "    path1 = os.path.join('./training/image_2', file)\n",
    "    #path1 = './images/Abyssinian_34.jpg'\n",
    "    img = cv2.imread(path1,1)\n",
    "    try:\n",
    "#         print(img.shape)\n",
    "        img = cv2.resize(img, (128,128))\n",
    "#         print(img.shape)\n",
    "#         img = img[..., np.newaxis]\n",
    "        X[n] = img/ 255\n",
    "        file2 = masks[n]\n",
    "        #n = masks.index(file)\n",
    "        path2 = os.path.join('./training/semantic_rgb', file2)\n",
    "        # Load images\n",
    "              \n",
    "        mask = np.array(cv2.imread(path2, 1))\n",
    "#         print(mask.shape)\n",
    "#         mask = (mask<12)*1.0\n",
    "        mask = cv2.resize(mask, (128, 128))\n",
    "#         mask = mask[:, :, :]\n",
    "#         mask = mask[..., np.newaxis]\n",
    "#         print(mask.shape)\n",
    "#         mask = 1.0*(mask[:,:,0]>12)\n",
    "        y[n] = mask/255\n",
    "#         y[n,:,:] = np.squeeze(mask)\n",
    "#         print(y.shape)\n",
    "    except Exception as e:\n",
    "        print(e)\n",
    "        print(path1)\n"
   ]
  },
  {
   "cell_type": "code",
   "execution_count": 255,
   "metadata": {
    "colab": {
     "base_uri": "https://localhost:8080/",
     "height": 51
    },
    "colab_type": "code",
    "id": "EYgY0bUTRohK",
    "outputId": "820b7ec0-6b29-4d16-81b9-651498f1536d"
   },
   "outputs": [
    {
     "name": "stdout",
     "output_type": "stream",
     "text": [
      "(200, 128, 128, 3)\n",
      "(200, 128, 128, 3)\n"
     ]
    }
   ],
   "source": [
    "#Check the data\n",
    "print(X.shape)\n",
    "print(y.shape)"
   ]
  },
  {
   "cell_type": "code",
   "execution_count": 256,
   "metadata": {
    "colab": {
     "base_uri": "https://localhost:8080/",
     "height": 286
    },
    "colab_type": "code",
    "id": "0QeUxyLYTQEt",
    "outputId": "4b480434-d0f9-4eff-eb12-96bde401631f"
   },
   "outputs": [
    {
     "data": {
      "text/plain": [
       "<matplotlib.image.AxesImage at 0x7ff08380a7f0>"
      ]
     },
     "execution_count": 256,
     "metadata": {
      "tags": []
     },
     "output_type": "execute_result"
    },
    {
     "data": {
      "image/png": "[encoded data removed]",
      "text/plain": [
       "<Figure size 432x288 with 1 Axes>"
      ]
     },
     "metadata": {
      "tags": []
     },
     "output_type": "display_data"
    }
   ],
   "source": [
    "#Check the images\n",
    "plt.imshow(X[1])\n"
   ]
  },
  {
   "cell_type": "code",
   "execution_count": 257,
   "metadata": {
    "colab": {
     "base_uri": "https://localhost:8080/",
     "height": 286
    },
    "colab_type": "code",
    "id": "y9UlmGqoWNtQ",
    "outputId": "da06c355-8548-462d-ada4-06478e29d4c3"
   },
   "outputs": [
    {
     "data": {
      "text/plain": [
       "<matplotlib.image.AxesImage at 0x7ff0837e1ac8>"
      ]
     },
     "execution_count": 257,
     "metadata": {
      "tags": []
     },
     "output_type": "execute_result"
    },
    {
     "data": {
      "image/png": "[encoded data removed]",
      "text/plain": [
       "<Figure size 432x288 with 1 Axes>"
      ]
     },
     "metadata": {
      "tags": []
     },
     "output_type": "display_data"
    }
   ],
   "source": [
    "plt.imshow(y[1])"
   ]
  },
  {
   "cell_type": "code",
   "execution_count": 249,
   "metadata": {
    "colab": {
     "base_uri": "https://localhost:8080/",
     "height": 187
    },
    "colab_type": "code",
    "id": "n3DDK14aEIhi",
    "outputId": "1f86da6a-df65-45f5-bef7-22a9eef1782d"
   },
   "outputs": [
    {
     "name": "stdout",
     "output_type": "stream",
     "text": [
      "(375, 1242, 3)\n"
     ]
    },
    {
     "data": {
      "text/plain": [
       "<matplotlib.image.AxesImage at 0x7ff08397b198>"
      ]
     },
     "execution_count": 249,
     "metadata": {
      "tags": []
     },
     "output_type": "execute_result"
    },
    {
     "data": {
      "image/png": "[encoded data removed]",
      "text/plain": [
       "<Figure size 432x288 with 1 Axes>"
      ]
     },
     "metadata": {
      "tags": []
     },
     "output_type": "display_data"
    }
   ],
   "source": [
    "a = './training/semantic_rgb/000000_10.png'\n",
    "img = cv2.imread(a, 1)\n",
    "print(img.shape)\n",
    "plt.imshow(img)"
   ]
  },
  {
   "cell_type": "code",
   "execution_count": 238,
   "metadata": {
    "colab": {
     "base_uri": "https://localhost:8080/",
     "height": 303
    },
    "colab_type": "code",
    "id": "unBgIgAJIYZb",
    "outputId": "aace3e77-605b-46b9-91d7-d50ddfa832dd"
   },
   "outputs": [
    {
     "name": "stdout",
     "output_type": "stream",
     "text": [
      "(128, 128, 3)\n"
     ]
    },
    {
     "data": {
      "text/plain": [
       "<matplotlib.image.AxesImage at 0x7ff083cbc630>"
      ]
     },
     "execution_count": 238,
     "metadata": {
      "tags": []
     },
     "output_type": "execute_result"
    },
    {
     "data": {
      "image/png": "[encoded data removed]",
      "text/plain": [
       "<Figure size 432x288 with 1 Axes>"
      ]
     },
     "metadata": {
      "tags": []
     },
     "output_type": "display_data"
    }
   ],
   "source": [
    "img = cv2.resize(img, (128, 128))\n",
    "print(img.shape)\n",
    "# img = img[:,:, :]\n",
    "plt.imshow(img)"
   ]
  },
  {
   "cell_type": "code",
   "execution_count": 111,
   "metadata": {
    "colab": {
     "base_uri": "https://localhost:8080/",
     "height": 581
    },
    "colab_type": "code",
    "id": "xSSrPgA5R0M6",
    "outputId": "ea1091cd-efd0-4679-9405-76d918133a58"
   },
   "outputs": [
    {
     "name": "stdout",
     "output_type": "stream",
     "text": [
      "Collecting git+https://github.com/qubvel/segmentation_models\n",
      "  Cloning https://github.com/qubvel/segmentation_models to /tmp/pip-req-build-wzvifu52\n",
      "  Running command git clone -q https://github.com/qubvel/segmentation_models /tmp/pip-req-build-wzvifu52\n",
      "  Running command git submodule update --init --recursive -q\n",
      "Requirement already satisfied (use --upgrade to upgrade): segmentation-models==0.2.1 from git+https://github.com/qubvel/segmentation_models in /usr/local/lib/python3.6/dist-packages\n",
      "Requirement already satisfied: keras>=2.2.0 in /usr/local/lib/python3.6/dist-packages (from segmentation-models==0.2.1) (2.2.4)\n",
      "Requirement already satisfied: keras_applications==1.0.7 in /usr/local/lib/python3.6/dist-packages (from segmentation-models==0.2.1) (1.0.7)\n",
      "Requirement already satisfied: scikit-image in /usr/local/lib/python3.6/dist-packages (from segmentation-models==0.2.1) (0.15.0)\n",
      "Requirement already satisfied: image-classifiers==0.2.0 in /usr/local/lib/python3.6/dist-packages (from segmentation-models==0.2.1) (0.2.0)\n",
      "Requirement already satisfied: efficientnet>=0.0.4 in /usr/local/lib/python3.6/dist-packages (from segmentation-models==0.2.1) (0.0.4)\n",
      "Requirement already satisfied: scipy>=0.14 in /usr/local/lib/python3.6/dist-packages (from keras>=2.2.0->segmentation-models==0.2.1) (1.3.0)\n",
      "Requirement already satisfied: pyyaml in /usr/local/lib/python3.6/dist-packages (from keras>=2.2.0->segmentation-models==0.2.1) (3.13)\n",
      "Requirement already satisfied: numpy>=1.9.1 in /usr/local/lib/python3.6/dist-packages (from keras>=2.2.0->segmentation-models==0.2.1) (1.16.4)\n",
      "Requirement already satisfied: h5py in /usr/local/lib/python3.6/dist-packages (from keras>=2.2.0->segmentation-models==0.2.1) (2.8.0)\n",
      "Requirement already satisfied: keras-preprocessing>=1.0.5 in /usr/local/lib/python3.6/dist-packages (from keras>=2.2.0->segmentation-models==0.2.1) (1.1.0)\n",
      "Requirement already satisfied: six>=1.9.0 in /usr/local/lib/python3.6/dist-packages (from keras>=2.2.0->segmentation-models==0.2.1) (1.12.0)\n",
      "Requirement already satisfied: networkx>=2.0 in /usr/local/lib/python3.6/dist-packages (from scikit-image->segmentation-models==0.2.1) (2.3)\n",
      "Requirement already satisfied: PyWavelets>=0.4.0 in /usr/local/lib/python3.6/dist-packages (from scikit-image->segmentation-models==0.2.1) (1.0.3)\n",
      "Requirement already satisfied: pillow>=4.3.0 in /usr/local/lib/python3.6/dist-packages (from scikit-image->segmentation-models==0.2.1) (4.3.0)\n",
      "Requirement already satisfied: imageio>=2.0.1 in /usr/local/lib/python3.6/dist-packages (from scikit-image->segmentation-models==0.2.1) (2.4.1)\n",
      "Requirement already satisfied: matplotlib!=3.0.0,>=2.0.0 in /usr/local/lib/python3.6/dist-packages (from scikit-image->segmentation-models==0.2.1) (3.0.3)\n",
      "Requirement already satisfied: decorator>=4.3.0 in /usr/local/lib/python3.6/dist-packages (from networkx>=2.0->scikit-image->segmentation-models==0.2.1) (4.4.0)\n",
      "Requirement already satisfied: olefile in /usr/local/lib/python3.6/dist-packages (from pillow>=4.3.0->scikit-image->segmentation-models==0.2.1) (0.46)\n",
      "Requirement already satisfied: pyparsing!=2.0.4,!=2.1.2,!=2.1.6,>=2.0.1 in /usr/local/lib/python3.6/dist-packages (from matplotlib!=3.0.0,>=2.0.0->scikit-image->segmentation-models==0.2.1) (2.4.0)\n",
      "Requirement already satisfied: cycler>=0.10 in /usr/local/lib/python3.6/dist-packages (from matplotlib!=3.0.0,>=2.0.0->scikit-image->segmentation-models==0.2.1) (0.10.0)\n",
      "Requirement already satisfied: python-dateutil>=2.1 in /usr/local/lib/python3.6/dist-packages (from matplotlib!=3.0.0,>=2.0.0->scikit-image->segmentation-models==0.2.1) (2.5.3)\n",
      "Requirement already satisfied: kiwisolver>=1.0.1 in /usr/local/lib/python3.6/dist-packages (from matplotlib!=3.0.0,>=2.0.0->scikit-image->segmentation-models==0.2.1) (1.1.0)\n",
      "Requirement already satisfied: setuptools in /usr/local/lib/python3.6/dist-packages (from kiwisolver>=1.0.1->matplotlib!=3.0.0,>=2.0.0->scikit-image->segmentation-models==0.2.1) (41.0.1)\n",
      "Building wheels for collected packages: segmentation-models\n",
      "  Building wheel for segmentation-models (setup.py) ... \u001b[?25l\u001b[?25hdone\n",
      "  Stored in directory: /tmp/pip-ephem-wheel-cache-_hwr5ox4/wheels/49/cf/46/cbb4bb64518c402aea99df9d466f1081450597e653256bbcf4\n",
      "Successfully built segmentation-models\n"
     ]
    }
   ],
   "source": [
    "#Install segmentation models\n",
    "!pip install git+https://github.com/qubvel/segmentation_models"
   ]
  },
  {
   "cell_type": "code",
   "execution_count": 0,
   "metadata": {
    "colab": {},
    "colab_type": "code",
    "id": "2cMxXEjzrcFa"
   },
   "outputs": [],
   "source": [
    "#Import libraries\n",
    "from segmentation_models import Unet\n",
    "from segmentation_models.backbones import get_preprocessing\n",
    "from segmentation_models.losses import bce_jaccard_loss\n",
    "from segmentation_models.metrics import iou_score\n",
    "\n",
    "from keras.layers import Input, Conv2D\n",
    "from keras.models import Model"
   ]
  },
  {
   "cell_type": "code",
   "execution_count": 0,
   "metadata": {
    "colab": {},
    "colab_type": "code",
    "id": "hmSfOJtYr4x8"
   },
   "outputs": [],
   "source": [
    "from sklearn.model_selection import train_test_split\n",
    "\n",
    "# Split train and valid\n",
    "X_train, X_valid, y_train, y_valid = train_test_split(X, y, test_size=0.15, random_state=2019)"
   ]
  },
  {
   "cell_type": "code",
   "execution_count": 0,
   "metadata": {
    "colab": {},
    "colab_type": "code",
    "id": "sdR0Cxh-T6jI"
   },
   "outputs": [],
   "source": [
    "BACKBONE = 'resnet34'\n",
    "preprocess_input = get_preprocessing(BACKBONE)"
   ]
  },
  {
   "cell_type": "code",
   "execution_count": 0,
   "metadata": {
    "colab": {},
    "colab_type": "code",
    "id": "jjfhdVUmr7T6"
   },
   "outputs": [],
   "source": [
    "x_train = preprocess_input(X_train)\n",
    "x_val = preprocess_input(X_valid)"
   ]
  },
  {
   "cell_type": "code",
   "execution_count": 262,
   "metadata": {
    "colab": {
     "base_uri": "https://localhost:8080/",
     "height": 34
    },
    "colab_type": "code",
    "id": "R7TIAYf6s9p1",
    "outputId": "56fd498b-2b1f-4b80-dcc1-a8d4bab75fde"
   },
   "outputs": [
    {
     "data": {
      "text/plain": [
       "(30, 128, 128, 3)"
      ]
     },
     "execution_count": 262,
     "metadata": {
      "tags": []
     },
     "output_type": "execute_result"
    }
   ],
   "source": [
    "x_val.shape"
   ]
  },
  {
   "cell_type": "code",
   "execution_count": 263,
   "metadata": {
    "colab": {
     "base_uri": "https://localhost:8080/",
     "height": 34
    },
    "colab_type": "code",
    "id": "3YaMOsEvICD7",
    "outputId": "b7d9b1f9-f960-4256-d70c-714d65b385ec"
   },
   "outputs": [
    {
     "data": {
      "text/plain": [
       "(170, 128, 128, 3)"
      ]
     },
     "execution_count": 263,
     "metadata": {
      "tags": []
     },
     "output_type": "execute_result"
    }
   ],
   "source": [
    "x_train.shape"
   ]
  },
  {
   "cell_type": "code",
   "execution_count": 265,
   "metadata": {
    "colab": {
     "base_uri": "https://localhost:8080/",
     "height": 272
    },
    "colab_type": "code",
    "id": "RN6duB30u714",
    "outputId": "7a672172-cfd4-48eb-f1cb-d79b9c4df779"
   },
   "outputs": [
    {
     "name": "stdout",
     "output_type": "stream",
     "text": [
      "_________________________________________________________________\n",
      "Layer (type)                 Output Shape              Param #   \n",
      "=================================================================\n",
      "input_10 (InputLayer)        (None, 128, 128, 3)       0         \n",
      "_________________________________________________________________\n",
      "conv2d_475 (Conv2D)          (None, 128, 128, 3)       12        \n",
      "_________________________________________________________________\n",
      "u-inceptionv3 (Model)        multiple                  29933105  \n",
      "_________________________________________________________________\n",
      "conv2d_476 (Conv2D)          (None, 128, 128, 3)       6         \n",
      "=================================================================\n",
      "Total params: 29,933,123\n",
      "Trainable params: 29,896,707\n",
      "Non-trainable params: 36,416\n",
      "_________________________________________________________________\n"
     ]
    }
   ],
   "source": [
    "#Build your model \n",
    "\n",
    "N = x_train.shape[-1]\n",
    "\n",
    "base_model = Unet(backbone_name='inceptionv3', encoder_weights='imagenet')\n",
    "\n",
    "inp = Input(shape=(128, 128, N))\n",
    "l1 = Conv2D(3, (1, 1))(inp) # map N channels data to 3 channels\n",
    "out = base_model(l1)\n",
    "l2 = Conv2D(3, (1, 1))(out)\n",
    "model = Model(inp, l2, name=base_model.name)\n",
    "model.summary()"
   ]
  },
  {
   "cell_type": "code",
   "execution_count": 266,
   "metadata": {
    "colab": {
     "base_uri": "https://localhost:8080/",
     "height": 1000
    },
    "colab_type": "code",
    "id": "88BZmYiyeZrq",
    "outputId": "0e3c6d12-fecd-4a7a-b02c-017afd49a189"
   },
   "outputs": [
    {
     "name": "stdout",
     "output_type": "stream",
     "text": [
      "__________________________________________________________________________________________________\n",
      "Layer (type)                    Output Shape         Param #     Connected to                     \n",
      "==================================================================================================\n",
      "input_9 (InputLayer)            (None, None, None, 3 0                                            \n",
      "__________________________________________________________________________________________________\n",
      "conv2d_381 (Conv2D)             (None, None, None, 3 864         input_9[0][0]                    \n",
      "__________________________________________________________________________________________________\n",
      "batch_normalization_377 (BatchN (None, None, None, 3 96          conv2d_381[0][0]                 \n",
      "__________________________________________________________________________________________________\n",
      "activation_377 (Activation)     (None, None, None, 3 0           batch_normalization_377[0][0]    \n",
      "__________________________________________________________________________________________________\n",
      "conv2d_382 (Conv2D)             (None, None, None, 3 9216        activation_377[0][0]             \n",
      "__________________________________________________________________________________________________\n",
      "batch_normalization_378 (BatchN (None, None, None, 3 96          conv2d_382[0][0]                 \n",
      "__________________________________________________________________________________________________\n",
      "activation_378 (Activation)     (None, None, None, 3 0           batch_normalization_378[0][0]    \n",
      "__________________________________________________________________________________________________\n",
      "conv2d_383 (Conv2D)             (None, None, None, 6 18432       activation_378[0][0]             \n",
      "__________________________________________________________________________________________________\n",
      "batch_normalization_379 (BatchN (None, None, None, 6 192         conv2d_383[0][0]                 \n",
      "__________________________________________________________________________________________________\n",
      "activation_379 (Activation)     (None, None, None, 6 0           batch_normalization_379[0][0]    \n",
      "__________________________________________________________________________________________________\n",
      "max_pooling2d_17 (MaxPooling2D) (None, None, None, 6 0           activation_379[0][0]             \n",
      "__________________________________________________________________________________________________\n",
      "conv2d_384 (Conv2D)             (None, None, None, 8 5120        max_pooling2d_17[0][0]           \n",
      "__________________________________________________________________________________________________\n",
      "batch_normalization_380 (BatchN (None, None, None, 8 240         conv2d_384[0][0]                 \n",
      "__________________________________________________________________________________________________\n",
      "activation_380 (Activation)     (None, None, None, 8 0           batch_normalization_380[0][0]    \n",
      "__________________________________________________________________________________________________\n",
      "conv2d_385 (Conv2D)             (None, None, None, 1 138240      activation_380[0][0]             \n",
      "__________________________________________________________________________________________________\n",
      "batch_normalization_381 (BatchN (None, None, None, 1 576         conv2d_385[0][0]                 \n",
      "__________________________________________________________________________________________________\n",
      "activation_381 (Activation)     (None, None, None, 1 0           batch_normalization_381[0][0]    \n",
      "__________________________________________________________________________________________________\n",
      "max_pooling2d_18 (MaxPooling2D) (None, None, None, 1 0           activation_381[0][0]             \n",
      "__________________________________________________________________________________________________\n",
      "conv2d_389 (Conv2D)             (None, None, None, 6 12288       max_pooling2d_18[0][0]           \n",
      "__________________________________________________________________________________________________\n",
      "batch_normalization_385 (BatchN (None, None, None, 6 192         conv2d_389[0][0]                 \n",
      "__________________________________________________________________________________________________\n",
      "activation_385 (Activation)     (None, None, None, 6 0           batch_normalization_385[0][0]    \n",
      "__________________________________________________________________________________________________\n",
      "conv2d_387 (Conv2D)             (None, None, None, 4 9216        max_pooling2d_18[0][0]           \n",
      "__________________________________________________________________________________________________\n",
      "conv2d_390 (Conv2D)             (None, None, None, 9 55296       activation_385[0][0]             \n",
      "__________________________________________________________________________________________________\n",
      "batch_normalization_383 (BatchN (None, None, None, 4 144         conv2d_387[0][0]                 \n",
      "__________________________________________________________________________________________________\n",
      "batch_normalization_386 (BatchN (None, None, None, 9 288         conv2d_390[0][0]                 \n",
      "__________________________________________________________________________________________________\n",
      "activation_383 (Activation)     (None, None, None, 4 0           batch_normalization_383[0][0]    \n",
      "__________________________________________________________________________________________________\n",
      "activation_386 (Activation)     (None, None, None, 9 0           batch_normalization_386[0][0]    \n",
      "__________________________________________________________________________________________________\n",
      "average_pooling2d_37 (AveragePo (None, None, None, 1 0           max_pooling2d_18[0][0]           \n",
      "__________________________________________________________________________________________________\n",
      "conv2d_386 (Conv2D)             (None, None, None, 6 12288       max_pooling2d_18[0][0]           \n",
      "__________________________________________________________________________________________________\n",
      "conv2d_388 (Conv2D)             (None, None, None, 6 76800       activation_383[0][0]             \n",
      "__________________________________________________________________________________________________\n",
      "conv2d_391 (Conv2D)             (None, None, None, 9 82944       activation_386[0][0]             \n",
      "__________________________________________________________________________________________________\n",
      "conv2d_392 (Conv2D)             (None, None, None, 3 6144        average_pooling2d_37[0][0]       \n",
      "__________________________________________________________________________________________________\n",
      "batch_normalization_382 (BatchN (None, None, None, 6 192         conv2d_386[0][0]                 \n",
      "__________________________________________________________________________________________________\n",
      "batch_normalization_384 (BatchN (None, None, None, 6 192         conv2d_388[0][0]                 \n",
      "__________________________________________________________________________________________________\n",
      "batch_normalization_387 (BatchN (None, None, None, 9 288         conv2d_391[0][0]                 \n",
      "__________________________________________________________________________________________________\n",
      "batch_normalization_388 (BatchN (None, None, None, 3 96          conv2d_392[0][0]                 \n",
      "__________________________________________________________________________________________________\n",
      "activation_382 (Activation)     (None, None, None, 6 0           batch_normalization_382[0][0]    \n",
      "__________________________________________________________________________________________________\n",
      "activation_384 (Activation)     (None, None, None, 6 0           batch_normalization_384[0][0]    \n",
      "__________________________________________________________________________________________________\n",
      "activation_387 (Activation)     (None, None, None, 9 0           batch_normalization_387[0][0]    \n",
      "__________________________________________________________________________________________________\n",
      "activation_388 (Activation)     (None, None, None, 3 0           batch_normalization_388[0][0]    \n",
      "__________________________________________________________________________________________________\n",
      "mixed0 (Concatenate)            (None, None, None, 2 0           activation_382[0][0]             \n",
      "                                                                 activation_384[0][0]             \n",
      "                                                                 activation_387[0][0]             \n",
      "                                                                 activation_388[0][0]             \n",
      "__________________________________________________________________________________________________\n",
      "conv2d_396 (Conv2D)             (None, None, None, 6 16384       mixed0[0][0]                     \n",
      "__________________________________________________________________________________________________\n",
      "batch_normalization_392 (BatchN (None, None, None, 6 192         conv2d_396[0][0]                 \n",
      "__________________________________________________________________________________________________\n",
      "activation_392 (Activation)     (None, None, None, 6 0           batch_normalization_392[0][0]    \n",
      "__________________________________________________________________________________________________\n",
      "conv2d_394 (Conv2D)             (None, None, None, 4 12288       mixed0[0][0]                     \n",
      "__________________________________________________________________________________________________\n",
      "conv2d_397 (Conv2D)             (None, None, None, 9 55296       activation_392[0][0]             \n",
      "__________________________________________________________________________________________________\n",
      "batch_normalization_390 (BatchN (None, None, None, 4 144         conv2d_394[0][0]                 \n",
      "__________________________________________________________________________________________________\n",
      "batch_normalization_393 (BatchN (None, None, None, 9 288         conv2d_397[0][0]                 \n",
      "__________________________________________________________________________________________________\n",
      "activation_390 (Activation)     (None, None, None, 4 0           batch_normalization_390[0][0]    \n",
      "__________________________________________________________________________________________________\n",
      "activation_393 (Activation)     (None, None, None, 9 0           batch_normalization_393[0][0]    \n",
      "__________________________________________________________________________________________________\n",
      "average_pooling2d_38 (AveragePo (None, None, None, 2 0           mixed0[0][0]                     \n",
      "__________________________________________________________________________________________________\n",
      "conv2d_393 (Conv2D)             (None, None, None, 6 16384       mixed0[0][0]                     \n",
      "__________________________________________________________________________________________________\n",
      "conv2d_395 (Conv2D)             (None, None, None, 6 76800       activation_390[0][0]             \n",
      "__________________________________________________________________________________________________\n",
      "conv2d_398 (Conv2D)             (None, None, None, 9 82944       activation_393[0][0]             \n",
      "__________________________________________________________________________________________________\n",
      "conv2d_399 (Conv2D)             (None, None, None, 6 16384       average_pooling2d_38[0][0]       \n",
      "__________________________________________________________________________________________________\n",
      "batch_normalization_389 (BatchN (None, None, None, 6 192         conv2d_393[0][0]                 \n",
      "__________________________________________________________________________________________________\n",
      "batch_normalization_391 (BatchN (None, None, None, 6 192         conv2d_395[0][0]                 \n",
      "__________________________________________________________________________________________________\n",
      "batch_normalization_394 (BatchN (None, None, None, 9 288         conv2d_398[0][0]                 \n",
      "__________________________________________________________________________________________________\n",
      "batch_normalization_395 (BatchN (None, None, None, 6 192         conv2d_399[0][0]                 \n",
      "__________________________________________________________________________________________________\n",
      "activation_389 (Activation)     (None, None, None, 6 0           batch_normalization_389[0][0]    \n",
      "__________________________________________________________________________________________________\n",
      "activation_391 (Activation)     (None, None, None, 6 0           batch_normalization_391[0][0]    \n",
      "__________________________________________________________________________________________________\n",
      "activation_394 (Activation)     (None, None, None, 9 0           batch_normalization_394[0][0]    \n",
      "__________________________________________________________________________________________________\n",
      "activation_395 (Activation)     (None, None, None, 6 0           batch_normalization_395[0][0]    \n",
      "__________________________________________________________________________________________________\n",
      "mixed1 (Concatenate)            (None, None, None, 2 0           activation_389[0][0]             \n",
      "                                                                 activation_391[0][0]             \n",
      "                                                                 activation_394[0][0]             \n",
      "                                                                 activation_395[0][0]             \n",
      "__________________________________________________________________________________________________\n",
      "conv2d_403 (Conv2D)             (None, None, None, 6 18432       mixed1[0][0]                     \n",
      "__________________________________________________________________________________________________\n",
      "batch_normalization_399 (BatchN (None, None, None, 6 192         conv2d_403[0][0]                 \n",
      "__________________________________________________________________________________________________\n",
      "activation_399 (Activation)     (None, None, None, 6 0           batch_normalization_399[0][0]    \n",
      "__________________________________________________________________________________________________\n",
      "conv2d_401 (Conv2D)             (None, None, None, 4 13824       mixed1[0][0]                     \n",
      "__________________________________________________________________________________________________\n",
      "conv2d_404 (Conv2D)             (None, None, None, 9 55296       activation_399[0][0]             \n",
      "__________________________________________________________________________________________________\n",
      "batch_normalization_397 (BatchN (None, None, None, 4 144         conv2d_401[0][0]                 \n",
      "__________________________________________________________________________________________________\n",
      "batch_normalization_400 (BatchN (None, None, None, 9 288         conv2d_404[0][0]                 \n",
      "__________________________________________________________________________________________________\n",
      "activation_397 (Activation)     (None, None, None, 4 0           batch_normalization_397[0][0]    \n",
      "__________________________________________________________________________________________________\n",
      "activation_400 (Activation)     (None, None, None, 9 0           batch_normalization_400[0][0]    \n",
      "__________________________________________________________________________________________________\n",
      "average_pooling2d_39 (AveragePo (None, None, None, 2 0           mixed1[0][0]                     \n",
      "__________________________________________________________________________________________________\n",
      "conv2d_400 (Conv2D)             (None, None, None, 6 18432       mixed1[0][0]                     \n",
      "__________________________________________________________________________________________________\n",
      "conv2d_402 (Conv2D)             (None, None, None, 6 76800       activation_397[0][0]             \n",
      "__________________________________________________________________________________________________\n",
      "conv2d_405 (Conv2D)             (None, None, None, 9 82944       activation_400[0][0]             \n",
      "__________________________________________________________________________________________________\n",
      "conv2d_406 (Conv2D)             (None, None, None, 6 18432       average_pooling2d_39[0][0]       \n",
      "__________________________________________________________________________________________________\n",
      "batch_normalization_396 (BatchN (None, None, None, 6 192         conv2d_400[0][0]                 \n",
      "__________________________________________________________________________________________________\n",
      "batch_normalization_398 (BatchN (None, None, None, 6 192         conv2d_402[0][0]                 \n",
      "__________________________________________________________________________________________________\n",
      "batch_normalization_401 (BatchN (None, None, None, 9 288         conv2d_405[0][0]                 \n",
      "__________________________________________________________________________________________________\n",
      "batch_normalization_402 (BatchN (None, None, None, 6 192         conv2d_406[0][0]                 \n",
      "__________________________________________________________________________________________________\n",
      "activation_396 (Activation)     (None, None, None, 6 0           batch_normalization_396[0][0]    \n",
      "__________________________________________________________________________________________________\n",
      "activation_398 (Activation)     (None, None, None, 6 0           batch_normalization_398[0][0]    \n",
      "__________________________________________________________________________________________________\n",
      "activation_401 (Activation)     (None, None, None, 9 0           batch_normalization_401[0][0]    \n",
      "__________________________________________________________________________________________________\n",
      "activation_402 (Activation)     (None, None, None, 6 0           batch_normalization_402[0][0]    \n",
      "__________________________________________________________________________________________________\n",
      "mixed2 (Concatenate)            (None, None, None, 2 0           activation_396[0][0]             \n",
      "                                                                 activation_398[0][0]             \n",
      "                                                                 activation_401[0][0]             \n",
      "                                                                 activation_402[0][0]             \n",
      "__________________________________________________________________________________________________\n",
      "conv2d_408 (Conv2D)             (None, None, None, 6 18432       mixed2[0][0]                     \n",
      "__________________________________________________________________________________________________\n",
      "batch_normalization_404 (BatchN (None, None, None, 6 192         conv2d_408[0][0]                 \n",
      "__________________________________________________________________________________________________\n",
      "activation_404 (Activation)     (None, None, None, 6 0           batch_normalization_404[0][0]    \n",
      "__________________________________________________________________________________________________\n",
      "conv2d_409 (Conv2D)             (None, None, None, 9 55296       activation_404[0][0]             \n",
      "__________________________________________________________________________________________________\n",
      "batch_normalization_405 (BatchN (None, None, None, 9 288         conv2d_409[0][0]                 \n",
      "__________________________________________________________________________________________________\n",
      "activation_405 (Activation)     (None, None, None, 9 0           batch_normalization_405[0][0]    \n",
      "__________________________________________________________________________________________________\n",
      "conv2d_407 (Conv2D)             (None, None, None, 3 995328      mixed2[0][0]                     \n",
      "__________________________________________________________________________________________________\n",
      "conv2d_410 (Conv2D)             (None, None, None, 9 82944       activation_405[0][0]             \n",
      "__________________________________________________________________________________________________\n",
      "batch_normalization_403 (BatchN (None, None, None, 3 1152        conv2d_407[0][0]                 \n",
      "__________________________________________________________________________________________________\n",
      "batch_normalization_406 (BatchN (None, None, None, 9 288         conv2d_410[0][0]                 \n",
      "__________________________________________________________________________________________________\n",
      "activation_403 (Activation)     (None, None, None, 3 0           batch_normalization_403[0][0]    \n",
      "__________________________________________________________________________________________________\n",
      "activation_406 (Activation)     (None, None, None, 9 0           batch_normalization_406[0][0]    \n",
      "__________________________________________________________________________________________________\n",
      "max_pooling2d_19 (MaxPooling2D) (None, None, None, 2 0           mixed2[0][0]                     \n",
      "__________________________________________________________________________________________________\n",
      "mixed3 (Concatenate)            (None, None, None, 7 0           activation_403[0][0]             \n",
      "                                                                 activation_406[0][0]             \n",
      "                                                                 max_pooling2d_19[0][0]           \n",
      "__________________________________________________________________________________________________\n",
      "conv2d_415 (Conv2D)             (None, None, None, 1 98304       mixed3[0][0]                     \n",
      "__________________________________________________________________________________________________\n",
      "batch_normalization_411 (BatchN (None, None, None, 1 384         conv2d_415[0][0]                 \n",
      "__________________________________________________________________________________________________\n",
      "activation_411 (Activation)     (None, None, None, 1 0           batch_normalization_411[0][0]    \n",
      "__________________________________________________________________________________________________\n",
      "conv2d_416 (Conv2D)             (None, None, None, 1 114688      activation_411[0][0]             \n",
      "__________________________________________________________________________________________________\n",
      "batch_normalization_412 (BatchN (None, None, None, 1 384         conv2d_416[0][0]                 \n",
      "__________________________________________________________________________________________________\n",
      "activation_412 (Activation)     (None, None, None, 1 0           batch_normalization_412[0][0]    \n",
      "__________________________________________________________________________________________________\n",
      "conv2d_412 (Conv2D)             (None, None, None, 1 98304       mixed3[0][0]                     \n",
      "__________________________________________________________________________________________________\n",
      "conv2d_417 (Conv2D)             (None, None, None, 1 114688      activation_412[0][0]             \n",
      "__________________________________________________________________________________________________\n",
      "batch_normalization_408 (BatchN (None, None, None, 1 384         conv2d_412[0][0]                 \n",
      "__________________________________________________________________________________________________\n",
      "batch_normalization_413 (BatchN (None, None, None, 1 384         conv2d_417[0][0]                 \n",
      "__________________________________________________________________________________________________\n",
      "activation_408 (Activation)     (None, None, None, 1 0           batch_normalization_408[0][0]    \n",
      "__________________________________________________________________________________________________\n",
      "activation_413 (Activation)     (None, None, None, 1 0           batch_normalization_413[0][0]    \n",
      "__________________________________________________________________________________________________\n",
      "conv2d_413 (Conv2D)             (None, None, None, 1 114688      activation_408[0][0]             \n",
      "__________________________________________________________________________________________________\n",
      "conv2d_418 (Conv2D)             (None, None, None, 1 114688      activation_413[0][0]             \n",
      "__________________________________________________________________________________________________\n",
      "batch_normalization_409 (BatchN (None, None, None, 1 384         conv2d_413[0][0]                 \n",
      "__________________________________________________________________________________________________\n",
      "batch_normalization_414 (BatchN (None, None, None, 1 384         conv2d_418[0][0]                 \n",
      "__________________________________________________________________________________________________\n",
      "activation_409 (Activation)     (None, None, None, 1 0           batch_normalization_409[0][0]    \n",
      "__________________________________________________________________________________________________\n",
      "activation_414 (Activation)     (None, None, None, 1 0           batch_normalization_414[0][0]    \n",
      "__________________________________________________________________________________________________\n",
      "average_pooling2d_40 (AveragePo (None, None, None, 7 0           mixed3[0][0]                     \n",
      "__________________________________________________________________________________________________\n",
      "conv2d_411 (Conv2D)             (None, None, None, 1 147456      mixed3[0][0]                     \n",
      "__________________________________________________________________________________________________\n",
      "conv2d_414 (Conv2D)             (None, None, None, 1 172032      activation_409[0][0]             \n",
      "__________________________________________________________________________________________________\n",
      "conv2d_419 (Conv2D)             (None, None, None, 1 172032      activation_414[0][0]             \n",
      "__________________________________________________________________________________________________\n",
      "conv2d_420 (Conv2D)             (None, None, None, 1 147456      average_pooling2d_40[0][0]       \n",
      "__________________________________________________________________________________________________\n",
      "batch_normalization_407 (BatchN (None, None, None, 1 576         conv2d_411[0][0]                 \n",
      "__________________________________________________________________________________________________\n",
      "batch_normalization_410 (BatchN (None, None, None, 1 576         conv2d_414[0][0]                 \n",
      "__________________________________________________________________________________________________\n",
      "batch_normalization_415 (BatchN (None, None, None, 1 576         conv2d_419[0][0]                 \n",
      "__________________________________________________________________________________________________\n",
      "batch_normalization_416 (BatchN (None, None, None, 1 576         conv2d_420[0][0]                 \n",
      "__________________________________________________________________________________________________\n",
      "activation_407 (Activation)     (None, None, None, 1 0           batch_normalization_407[0][0]    \n",
      "__________________________________________________________________________________________________\n",
      "activation_410 (Activation)     (None, None, None, 1 0           batch_normalization_410[0][0]    \n",
      "__________________________________________________________________________________________________\n",
      "activation_415 (Activation)     (None, None, None, 1 0           batch_normalization_415[0][0]    \n",
      "__________________________________________________________________________________________________\n",
      "activation_416 (Activation)     (None, None, None, 1 0           batch_normalization_416[0][0]    \n",
      "__________________________________________________________________________________________________\n",
      "mixed4 (Concatenate)            (None, None, None, 7 0           activation_407[0][0]             \n",
      "                                                                 activation_410[0][0]             \n",
      "                                                                 activation_415[0][0]             \n",
      "                                                                 activation_416[0][0]             \n",
      "__________________________________________________________________________________________________\n",
      "conv2d_425 (Conv2D)             (None, None, None, 1 122880      mixed4[0][0]                     \n",
      "__________________________________________________________________________________________________\n",
      "batch_normalization_421 (BatchN (None, None, None, 1 480         conv2d_425[0][0]                 \n",
      "__________________________________________________________________________________________________\n",
      "activation_421 (Activation)     (None, None, None, 1 0           batch_normalization_421[0][0]    \n",
      "__________________________________________________________________________________________________\n",
      "conv2d_426 (Conv2D)             (None, None, None, 1 179200      activation_421[0][0]             \n",
      "__________________________________________________________________________________________________\n",
      "batch_normalization_422 (BatchN (None, None, None, 1 480         conv2d_426[0][0]                 \n",
      "__________________________________________________________________________________________________\n",
      "activation_422 (Activation)     (None, None, None, 1 0           batch_normalization_422[0][0]    \n",
      "__________________________________________________________________________________________________\n",
      "conv2d_422 (Conv2D)             (None, None, None, 1 122880      mixed4[0][0]                     \n",
      "__________________________________________________________________________________________________\n",
      "conv2d_427 (Conv2D)             (None, None, None, 1 179200      activation_422[0][0]             \n",
      "__________________________________________________________________________________________________\n",
      "batch_normalization_418 (BatchN (None, None, None, 1 480         conv2d_422[0][0]                 \n",
      "__________________________________________________________________________________________________\n",
      "batch_normalization_423 (BatchN (None, None, None, 1 480         conv2d_427[0][0]                 \n",
      "__________________________________________________________________________________________________\n",
      "activation_418 (Activation)     (None, None, None, 1 0           batch_normalization_418[0][0]    \n",
      "__________________________________________________________________________________________________\n",
      "activation_423 (Activation)     (None, None, None, 1 0           batch_normalization_423[0][0]    \n",
      "__________________________________________________________________________________________________\n",
      "conv2d_423 (Conv2D)             (None, None, None, 1 179200      activation_418[0][0]             \n",
      "__________________________________________________________________________________________________\n",
      "conv2d_428 (Conv2D)             (None, None, None, 1 179200      activation_423[0][0]             \n",
      "__________________________________________________________________________________________________\n",
      "batch_normalization_419 (BatchN (None, None, None, 1 480         conv2d_423[0][0]                 \n",
      "__________________________________________________________________________________________________\n",
      "batch_normalization_424 (BatchN (None, None, None, 1 480         conv2d_428[0][0]                 \n",
      "__________________________________________________________________________________________________\n",
      "activation_419 (Activation)     (None, None, None, 1 0           batch_normalization_419[0][0]    \n",
      "__________________________________________________________________________________________________\n",
      "activation_424 (Activation)     (None, None, None, 1 0           batch_normalization_424[0][0]    \n",
      "__________________________________________________________________________________________________\n",
      "average_pooling2d_41 (AveragePo (None, None, None, 7 0           mixed4[0][0]                     \n",
      "__________________________________________________________________________________________________\n",
      "conv2d_421 (Conv2D)             (None, None, None, 1 147456      mixed4[0][0]                     \n",
      "__________________________________________________________________________________________________\n",
      "conv2d_424 (Conv2D)             (None, None, None, 1 215040      activation_419[0][0]             \n",
      "__________________________________________________________________________________________________\n",
      "conv2d_429 (Conv2D)             (None, None, None, 1 215040      activation_424[0][0]             \n",
      "__________________________________________________________________________________________________\n",
      "conv2d_430 (Conv2D)             (None, None, None, 1 147456      average_pooling2d_41[0][0]       \n",
      "__________________________________________________________________________________________________\n",
      "batch_normalization_417 (BatchN (None, None, None, 1 576         conv2d_421[0][0]                 \n",
      "__________________________________________________________________________________________________\n",
      "batch_normalization_420 (BatchN (None, None, None, 1 576         conv2d_424[0][0]                 \n",
      "__________________________________________________________________________________________________\n",
      "batch_normalization_425 (BatchN (None, None, None, 1 576         conv2d_429[0][0]                 \n",
      "__________________________________________________________________________________________________\n",
      "batch_normalization_426 (BatchN (None, None, None, 1 576         conv2d_430[0][0]                 \n",
      "__________________________________________________________________________________________________\n",
      "activation_417 (Activation)     (None, None, None, 1 0           batch_normalization_417[0][0]    \n",
      "__________________________________________________________________________________________________\n",
      "activation_420 (Activation)     (None, None, None, 1 0           batch_normalization_420[0][0]    \n",
      "__________________________________________________________________________________________________\n",
      "activation_425 (Activation)     (None, None, None, 1 0           batch_normalization_425[0][0]    \n",
      "__________________________________________________________________________________________________\n",
      "activation_426 (Activation)     (None, None, None, 1 0           batch_normalization_426[0][0]    \n",
      "__________________________________________________________________________________________________\n",
      "mixed5 (Concatenate)            (None, None, None, 7 0           activation_417[0][0]             \n",
      "                                                                 activation_420[0][0]             \n",
      "                                                                 activation_425[0][0]             \n",
      "                                                                 activation_426[0][0]             \n",
      "__________________________________________________________________________________________________\n",
      "conv2d_435 (Conv2D)             (None, None, None, 1 122880      mixed5[0][0]                     \n",
      "__________________________________________________________________________________________________\n",
      "batch_normalization_431 (BatchN (None, None, None, 1 480         conv2d_435[0][0]                 \n",
      "__________________________________________________________________________________________________\n",
      "activation_431 (Activation)     (None, None, None, 1 0           batch_normalization_431[0][0]    \n",
      "__________________________________________________________________________________________________\n",
      "conv2d_436 (Conv2D)             (None, None, None, 1 179200      activation_431[0][0]             \n",
      "__________________________________________________________________________________________________\n",
      "batch_normalization_432 (BatchN (None, None, None, 1 480         conv2d_436[0][0]                 \n",
      "__________________________________________________________________________________________________\n",
      "activation_432 (Activation)     (None, None, None, 1 0           batch_normalization_432[0][0]    \n",
      "__________________________________________________________________________________________________\n",
      "conv2d_432 (Conv2D)             (None, None, None, 1 122880      mixed5[0][0]                     \n",
      "__________________________________________________________________________________________________\n",
      "conv2d_437 (Conv2D)             (None, None, None, 1 179200      activation_432[0][0]             \n",
      "__________________________________________________________________________________________________\n",
      "batch_normalization_428 (BatchN (None, None, None, 1 480         conv2d_432[0][0]                 \n",
      "__________________________________________________________________________________________________\n",
      "batch_normalization_433 (BatchN (None, None, None, 1 480         conv2d_437[0][0]                 \n",
      "__________________________________________________________________________________________________\n",
      "activation_428 (Activation)     (None, None, None, 1 0           batch_normalization_428[0][0]    \n",
      "__________________________________________________________________________________________________\n",
      "activation_433 (Activation)     (None, None, None, 1 0           batch_normalization_433[0][0]    \n",
      "__________________________________________________________________________________________________\n",
      "conv2d_433 (Conv2D)             (None, None, None, 1 179200      activation_428[0][0]             \n",
      "__________________________________________________________________________________________________\n",
      "conv2d_438 (Conv2D)             (None, None, None, 1 179200      activation_433[0][0]             \n",
      "__________________________________________________________________________________________________\n",
      "batch_normalization_429 (BatchN (None, None, None, 1 480         conv2d_433[0][0]                 \n",
      "__________________________________________________________________________________________________\n",
      "batch_normalization_434 (BatchN (None, None, None, 1 480         conv2d_438[0][0]                 \n",
      "__________________________________________________________________________________________________\n",
      "activation_429 (Activation)     (None, None, None, 1 0           batch_normalization_429[0][0]    \n",
      "__________________________________________________________________________________________________\n",
      "activation_434 (Activation)     (None, None, None, 1 0           batch_normalization_434[0][0]    \n",
      "__________________________________________________________________________________________________\n",
      "average_pooling2d_42 (AveragePo (None, None, None, 7 0           mixed5[0][0]                     \n",
      "__________________________________________________________________________________________________\n",
      "conv2d_431 (Conv2D)             (None, None, None, 1 147456      mixed5[0][0]                     \n",
      "__________________________________________________________________________________________________\n",
      "conv2d_434 (Conv2D)             (None, None, None, 1 215040      activation_429[0][0]             \n",
      "__________________________________________________________________________________________________\n",
      "conv2d_439 (Conv2D)             (None, None, None, 1 215040      activation_434[0][0]             \n",
      "__________________________________________________________________________________________________\n",
      "conv2d_440 (Conv2D)             (None, None, None, 1 147456      average_pooling2d_42[0][0]       \n",
      "__________________________________________________________________________________________________\n",
      "batch_normalization_427 (BatchN (None, None, None, 1 576         conv2d_431[0][0]                 \n",
      "__________________________________________________________________________________________________\n",
      "batch_normalization_430 (BatchN (None, None, None, 1 576         conv2d_434[0][0]                 \n",
      "__________________________________________________________________________________________________\n",
      "batch_normalization_435 (BatchN (None, None, None, 1 576         conv2d_439[0][0]                 \n",
      "__________________________________________________________________________________________________\n",
      "batch_normalization_436 (BatchN (None, None, None, 1 576         conv2d_440[0][0]                 \n",
      "__________________________________________________________________________________________________\n",
      "activation_427 (Activation)     (None, None, None, 1 0           batch_normalization_427[0][0]    \n",
      "__________________________________________________________________________________________________\n",
      "activation_430 (Activation)     (None, None, None, 1 0           batch_normalization_430[0][0]    \n",
      "__________________________________________________________________________________________________\n",
      "activation_435 (Activation)     (None, None, None, 1 0           batch_normalization_435[0][0]    \n",
      "__________________________________________________________________________________________________\n",
      "activation_436 (Activation)     (None, None, None, 1 0           batch_normalization_436[0][0]    \n",
      "__________________________________________________________________________________________________\n",
      "mixed6 (Concatenate)            (None, None, None, 7 0           activation_427[0][0]             \n",
      "                                                                 activation_430[0][0]             \n",
      "                                                                 activation_435[0][0]             \n",
      "                                                                 activation_436[0][0]             \n",
      "__________________________________________________________________________________________________\n",
      "conv2d_445 (Conv2D)             (None, None, None, 1 147456      mixed6[0][0]                     \n",
      "__________________________________________________________________________________________________\n",
      "batch_normalization_441 (BatchN (None, None, None, 1 576         conv2d_445[0][0]                 \n",
      "__________________________________________________________________________________________________\n",
      "activation_441 (Activation)     (None, None, None, 1 0           batch_normalization_441[0][0]    \n",
      "__________________________________________________________________________________________________\n",
      "conv2d_446 (Conv2D)             (None, None, None, 1 258048      activation_441[0][0]             \n",
      "__________________________________________________________________________________________________\n",
      "batch_normalization_442 (BatchN (None, None, None, 1 576         conv2d_446[0][0]                 \n",
      "__________________________________________________________________________________________________\n",
      "activation_442 (Activation)     (None, None, None, 1 0           batch_normalization_442[0][0]    \n",
      "__________________________________________________________________________________________________\n",
      "conv2d_442 (Conv2D)             (None, None, None, 1 147456      mixed6[0][0]                     \n",
      "__________________________________________________________________________________________________\n",
      "conv2d_447 (Conv2D)             (None, None, None, 1 258048      activation_442[0][0]             \n",
      "__________________________________________________________________________________________________\n",
      "batch_normalization_438 (BatchN (None, None, None, 1 576         conv2d_442[0][0]                 \n",
      "__________________________________________________________________________________________________\n",
      "batch_normalization_443 (BatchN (None, None, None, 1 576         conv2d_447[0][0]                 \n",
      "__________________________________________________________________________________________________\n",
      "activation_438 (Activation)     (None, None, None, 1 0           batch_normalization_438[0][0]    \n",
      "__________________________________________________________________________________________________\n",
      "activation_443 (Activation)     (None, None, None, 1 0           batch_normalization_443[0][0]    \n",
      "__________________________________________________________________________________________________\n",
      "conv2d_443 (Conv2D)             (None, None, None, 1 258048      activation_438[0][0]             \n",
      "__________________________________________________________________________________________________\n",
      "conv2d_448 (Conv2D)             (None, None, None, 1 258048      activation_443[0][0]             \n",
      "__________________________________________________________________________________________________\n",
      "batch_normalization_439 (BatchN (None, None, None, 1 576         conv2d_443[0][0]                 \n",
      "__________________________________________________________________________________________________\n",
      "batch_normalization_444 (BatchN (None, None, None, 1 576         conv2d_448[0][0]                 \n",
      "__________________________________________________________________________________________________\n",
      "activation_439 (Activation)     (None, None, None, 1 0           batch_normalization_439[0][0]    \n",
      "__________________________________________________________________________________________________\n",
      "activation_444 (Activation)     (None, None, None, 1 0           batch_normalization_444[0][0]    \n",
      "__________________________________________________________________________________________________\n",
      "average_pooling2d_43 (AveragePo (None, None, None, 7 0           mixed6[0][0]                     \n",
      "__________________________________________________________________________________________________\n",
      "conv2d_441 (Conv2D)             (None, None, None, 1 147456      mixed6[0][0]                     \n",
      "__________________________________________________________________________________________________\n",
      "conv2d_444 (Conv2D)             (None, None, None, 1 258048      activation_439[0][0]             \n",
      "__________________________________________________________________________________________________\n",
      "conv2d_449 (Conv2D)             (None, None, None, 1 258048      activation_444[0][0]             \n",
      "__________________________________________________________________________________________________\n",
      "conv2d_450 (Conv2D)             (None, None, None, 1 147456      average_pooling2d_43[0][0]       \n",
      "__________________________________________________________________________________________________\n",
      "batch_normalization_437 (BatchN (None, None, None, 1 576         conv2d_441[0][0]                 \n",
      "__________________________________________________________________________________________________\n",
      "batch_normalization_440 (BatchN (None, None, None, 1 576         conv2d_444[0][0]                 \n",
      "__________________________________________________________________________________________________\n",
      "batch_normalization_445 (BatchN (None, None, None, 1 576         conv2d_449[0][0]                 \n",
      "__________________________________________________________________________________________________\n",
      "batch_normalization_446 (BatchN (None, None, None, 1 576         conv2d_450[0][0]                 \n",
      "__________________________________________________________________________________________________\n",
      "activation_437 (Activation)     (None, None, None, 1 0           batch_normalization_437[0][0]    \n",
      "__________________________________________________________________________________________________\n",
      "activation_440 (Activation)     (None, None, None, 1 0           batch_normalization_440[0][0]    \n",
      "__________________________________________________________________________________________________\n",
      "activation_445 (Activation)     (None, None, None, 1 0           batch_normalization_445[0][0]    \n",
      "__________________________________________________________________________________________________\n",
      "activation_446 (Activation)     (None, None, None, 1 0           batch_normalization_446[0][0]    \n",
      "__________________________________________________________________________________________________\n",
      "mixed7 (Concatenate)            (None, None, None, 7 0           activation_437[0][0]             \n",
      "                                                                 activation_440[0][0]             \n",
      "                                                                 activation_445[0][0]             \n",
      "                                                                 activation_446[0][0]             \n",
      "__________________________________________________________________________________________________\n",
      "conv2d_453 (Conv2D)             (None, None, None, 1 147456      mixed7[0][0]                     \n",
      "__________________________________________________________________________________________________\n",
      "batch_normalization_449 (BatchN (None, None, None, 1 576         conv2d_453[0][0]                 \n",
      "__________________________________________________________________________________________________\n",
      "activation_449 (Activation)     (None, None, None, 1 0           batch_normalization_449[0][0]    \n",
      "__________________________________________________________________________________________________\n",
      "conv2d_454 (Conv2D)             (None, None, None, 1 258048      activation_449[0][0]             \n",
      "__________________________________________________________________________________________________\n",
      "batch_normalization_450 (BatchN (None, None, None, 1 576         conv2d_454[0][0]                 \n",
      "__________________________________________________________________________________________________\n",
      "activation_450 (Activation)     (None, None, None, 1 0           batch_normalization_450[0][0]    \n",
      "__________________________________________________________________________________________________\n",
      "conv2d_451 (Conv2D)             (None, None, None, 1 147456      mixed7[0][0]                     \n",
      "__________________________________________________________________________________________________\n",
      "conv2d_455 (Conv2D)             (None, None, None, 1 258048      activation_450[0][0]             \n",
      "__________________________________________________________________________________________________\n",
      "batch_normalization_447 (BatchN (None, None, None, 1 576         conv2d_451[0][0]                 \n",
      "__________________________________________________________________________________________________\n",
      "batch_normalization_451 (BatchN (None, None, None, 1 576         conv2d_455[0][0]                 \n",
      "__________________________________________________________________________________________________\n",
      "activation_447 (Activation)     (None, None, None, 1 0           batch_normalization_447[0][0]    \n",
      "__________________________________________________________________________________________________\n",
      "activation_451 (Activation)     (None, None, None, 1 0           batch_normalization_451[0][0]    \n",
      "__________________________________________________________________________________________________\n",
      "conv2d_452 (Conv2D)             (None, None, None, 3 552960      activation_447[0][0]             \n",
      "__________________________________________________________________________________________________\n",
      "conv2d_456 (Conv2D)             (None, None, None, 1 331776      activation_451[0][0]             \n",
      "__________________________________________________________________________________________________\n",
      "batch_normalization_448 (BatchN (None, None, None, 3 960         conv2d_452[0][0]                 \n",
      "__________________________________________________________________________________________________\n",
      "batch_normalization_452 (BatchN (None, None, None, 1 576         conv2d_456[0][0]                 \n",
      "__________________________________________________________________________________________________\n",
      "activation_448 (Activation)     (None, None, None, 3 0           batch_normalization_448[0][0]    \n",
      "__________________________________________________________________________________________________\n",
      "activation_452 (Activation)     (None, None, None, 1 0           batch_normalization_452[0][0]    \n",
      "__________________________________________________________________________________________________\n",
      "max_pooling2d_20 (MaxPooling2D) (None, None, None, 7 0           mixed7[0][0]                     \n",
      "__________________________________________________________________________________________________\n",
      "mixed8 (Concatenate)            (None, None, None, 1 0           activation_448[0][0]             \n",
      "                                                                 activation_452[0][0]             \n",
      "                                                                 max_pooling2d_20[0][0]           \n",
      "__________________________________________________________________________________________________\n",
      "conv2d_461 (Conv2D)             (None, None, None, 4 573440      mixed8[0][0]                     \n",
      "__________________________________________________________________________________________________\n",
      "batch_normalization_457 (BatchN (None, None, None, 4 1344        conv2d_461[0][0]                 \n",
      "__________________________________________________________________________________________________\n",
      "activation_457 (Activation)     (None, None, None, 4 0           batch_normalization_457[0][0]    \n",
      "__________________________________________________________________________________________________\n",
      "conv2d_458 (Conv2D)             (None, None, None, 3 491520      mixed8[0][0]                     \n",
      "__________________________________________________________________________________________________\n",
      "conv2d_462 (Conv2D)             (None, None, None, 3 1548288     activation_457[0][0]             \n",
      "__________________________________________________________________________________________________\n",
      "batch_normalization_454 (BatchN (None, None, None, 3 1152        conv2d_458[0][0]                 \n",
      "__________________________________________________________________________________________________\n",
      "batch_normalization_458 (BatchN (None, None, None, 3 1152        conv2d_462[0][0]                 \n",
      "__________________________________________________________________________________________________\n",
      "activation_454 (Activation)     (None, None, None, 3 0           batch_normalization_454[0][0]    \n",
      "__________________________________________________________________________________________________\n",
      "activation_458 (Activation)     (None, None, None, 3 0           batch_normalization_458[0][0]    \n",
      "__________________________________________________________________________________________________\n",
      "conv2d_459 (Conv2D)             (None, None, None, 3 442368      activation_454[0][0]             \n",
      "__________________________________________________________________________________________________\n",
      "conv2d_460 (Conv2D)             (None, None, None, 3 442368      activation_454[0][0]             \n",
      "__________________________________________________________________________________________________\n",
      "conv2d_463 (Conv2D)             (None, None, None, 3 442368      activation_458[0][0]             \n",
      "__________________________________________________________________________________________________\n",
      "conv2d_464 (Conv2D)             (None, None, None, 3 442368      activation_458[0][0]             \n",
      "__________________________________________________________________________________________________\n",
      "average_pooling2d_44 (AveragePo (None, None, None, 1 0           mixed8[0][0]                     \n",
      "__________________________________________________________________________________________________\n",
      "conv2d_457 (Conv2D)             (None, None, None, 3 409600      mixed8[0][0]                     \n",
      "__________________________________________________________________________________________________\n",
      "batch_normalization_455 (BatchN (None, None, None, 3 1152        conv2d_459[0][0]                 \n",
      "__________________________________________________________________________________________________\n",
      "batch_normalization_456 (BatchN (None, None, None, 3 1152        conv2d_460[0][0]                 \n",
      "__________________________________________________________________________________________________\n",
      "batch_normalization_459 (BatchN (None, None, None, 3 1152        conv2d_463[0][0]                 \n",
      "__________________________________________________________________________________________________\n",
      "batch_normalization_460 (BatchN (None, None, None, 3 1152        conv2d_464[0][0]                 \n",
      "__________________________________________________________________________________________________\n",
      "conv2d_465 (Conv2D)             (None, None, None, 1 245760      average_pooling2d_44[0][0]       \n",
      "__________________________________________________________________________________________________\n",
      "batch_normalization_453 (BatchN (None, None, None, 3 960         conv2d_457[0][0]                 \n",
      "__________________________________________________________________________________________________\n",
      "activation_455 (Activation)     (None, None, None, 3 0           batch_normalization_455[0][0]    \n",
      "__________________________________________________________________________________________________\n",
      "activation_456 (Activation)     (None, None, None, 3 0           batch_normalization_456[0][0]    \n",
      "__________________________________________________________________________________________________\n",
      "activation_459 (Activation)     (None, None, None, 3 0           batch_normalization_459[0][0]    \n",
      "__________________________________________________________________________________________________\n",
      "activation_460 (Activation)     (None, None, None, 3 0           batch_normalization_460[0][0]    \n",
      "__________________________________________________________________________________________________\n",
      "batch_normalization_461 (BatchN (None, None, None, 1 576         conv2d_465[0][0]                 \n",
      "__________________________________________________________________________________________________\n",
      "activation_453 (Activation)     (None, None, None, 3 0           batch_normalization_453[0][0]    \n",
      "__________________________________________________________________________________________________\n",
      "mixed9_0 (Concatenate)          (None, None, None, 7 0           activation_455[0][0]             \n",
      "                                                                 activation_456[0][0]             \n",
      "__________________________________________________________________________________________________\n",
      "concatenate_25 (Concatenate)    (None, None, None, 7 0           activation_459[0][0]             \n",
      "                                                                 activation_460[0][0]             \n",
      "__________________________________________________________________________________________________\n",
      "activation_461 (Activation)     (None, None, None, 1 0           batch_normalization_461[0][0]    \n",
      "__________________________________________________________________________________________________\n",
      "mixed9 (Concatenate)            (None, None, None, 2 0           activation_453[0][0]             \n",
      "                                                                 mixed9_0[0][0]                   \n",
      "                                                                 concatenate_25[0][0]             \n",
      "                                                                 activation_461[0][0]             \n",
      "__________________________________________________________________________________________________\n",
      "conv2d_470 (Conv2D)             (None, None, None, 4 917504      mixed9[0][0]                     \n",
      "__________________________________________________________________________________________________\n",
      "batch_normalization_466 (BatchN (None, None, None, 4 1344        conv2d_470[0][0]                 \n",
      "__________________________________________________________________________________________________\n",
      "activation_466 (Activation)     (None, None, None, 4 0           batch_normalization_466[0][0]    \n",
      "__________________________________________________________________________________________________\n",
      "conv2d_467 (Conv2D)             (None, None, None, 3 786432      mixed9[0][0]                     \n",
      "__________________________________________________________________________________________________\n",
      "conv2d_471 (Conv2D)             (None, None, None, 3 1548288     activation_466[0][0]             \n",
      "__________________________________________________________________________________________________\n",
      "batch_normalization_463 (BatchN (None, None, None, 3 1152        conv2d_467[0][0]                 \n",
      "__________________________________________________________________________________________________\n",
      "batch_normalization_467 (BatchN (None, None, None, 3 1152        conv2d_471[0][0]                 \n",
      "__________________________________________________________________________________________________\n",
      "activation_463 (Activation)     (None, None, None, 3 0           batch_normalization_463[0][0]    \n",
      "__________________________________________________________________________________________________\n",
      "activation_467 (Activation)     (None, None, None, 3 0           batch_normalization_467[0][0]    \n",
      "__________________________________________________________________________________________________\n",
      "conv2d_468 (Conv2D)             (None, None, None, 3 442368      activation_463[0][0]             \n",
      "__________________________________________________________________________________________________\n",
      "conv2d_469 (Conv2D)             (None, None, None, 3 442368      activation_463[0][0]             \n",
      "__________________________________________________________________________________________________\n",
      "conv2d_472 (Conv2D)             (None, None, None, 3 442368      activation_467[0][0]             \n",
      "__________________________________________________________________________________________________\n",
      "conv2d_473 (Conv2D)             (None, None, None, 3 442368      activation_467[0][0]             \n",
      "__________________________________________________________________________________________________\n",
      "average_pooling2d_45 (AveragePo (None, None, None, 2 0           mixed9[0][0]                     \n",
      "__________________________________________________________________________________________________\n",
      "conv2d_466 (Conv2D)             (None, None, None, 3 655360      mixed9[0][0]                     \n",
      "__________________________________________________________________________________________________\n",
      "batch_normalization_464 (BatchN (None, None, None, 3 1152        conv2d_468[0][0]                 \n",
      "__________________________________________________________________________________________________\n",
      "batch_normalization_465 (BatchN (None, None, None, 3 1152        conv2d_469[0][0]                 \n",
      "__________________________________________________________________________________________________\n",
      "batch_normalization_468 (BatchN (None, None, None, 3 1152        conv2d_472[0][0]                 \n",
      "__________________________________________________________________________________________________\n",
      "batch_normalization_469 (BatchN (None, None, None, 3 1152        conv2d_473[0][0]                 \n",
      "__________________________________________________________________________________________________\n",
      "conv2d_474 (Conv2D)             (None, None, None, 1 393216      average_pooling2d_45[0][0]       \n",
      "__________________________________________________________________________________________________\n",
      "batch_normalization_462 (BatchN (None, None, None, 3 960         conv2d_466[0][0]                 \n",
      "__________________________________________________________________________________________________\n",
      "activation_464 (Activation)     (None, None, None, 3 0           batch_normalization_464[0][0]    \n",
      "__________________________________________________________________________________________________\n",
      "activation_465 (Activation)     (None, None, None, 3 0           batch_normalization_465[0][0]    \n",
      "__________________________________________________________________________________________________\n",
      "activation_468 (Activation)     (None, None, None, 3 0           batch_normalization_468[0][0]    \n",
      "__________________________________________________________________________________________________\n",
      "activation_469 (Activation)     (None, None, None, 3 0           batch_normalization_469[0][0]    \n",
      "__________________________________________________________________________________________________\n",
      "batch_normalization_470 (BatchN (None, None, None, 1 576         conv2d_474[0][0]                 \n",
      "__________________________________________________________________________________________________\n",
      "activation_462 (Activation)     (None, None, None, 3 0           batch_normalization_462[0][0]    \n",
      "__________________________________________________________________________________________________\n",
      "mixed9_1 (Concatenate)          (None, None, None, 7 0           activation_464[0][0]             \n",
      "                                                                 activation_465[0][0]             \n",
      "__________________________________________________________________________________________________\n",
      "concatenate_26 (Concatenate)    (None, None, None, 7 0           activation_468[0][0]             \n",
      "                                                                 activation_469[0][0]             \n",
      "__________________________________________________________________________________________________\n",
      "activation_470 (Activation)     (None, None, None, 1 0           batch_normalization_470[0][0]    \n",
      "__________________________________________________________________________________________________\n",
      "mixed10 (Concatenate)           (None, None, None, 2 0           activation_462[0][0]             \n",
      "                                                                 mixed9_1[0][0]                   \n",
      "                                                                 concatenate_26[0][0]             \n",
      "                                                                 activation_470[0][0]             \n",
      "__________________________________________________________________________________________________\n",
      "decoder_stage0_upsample (UpSamp (None, None, None, 2 0           mixed10[0][0]                    \n",
      "__________________________________________________________________________________________________\n",
      "concatenate_27 (Concatenate)    (None, None, None, 2 0           decoder_stage0_upsample[0][0]    \n",
      "                                                                 mixed7[0][0]                     \n",
      "__________________________________________________________________________________________________\n",
      "decoder_stage0_conv1 (Conv2D)   (None, None, None, 2 6488064     concatenate_27[0][0]             \n",
      "__________________________________________________________________________________________________\n",
      "decoder_stage0_bn1 (BatchNormal (None, None, None, 2 1024        decoder_stage0_conv1[0][0]       \n",
      "__________________________________________________________________________________________________\n",
      "decoder_stage0_relu1 (Activatio (None, None, None, 2 0           decoder_stage0_bn1[0][0]         \n",
      "__________________________________________________________________________________________________\n",
      "decoder_stage0_conv2 (Conv2D)   (None, None, None, 2 589824      decoder_stage0_relu1[0][0]       \n",
      "__________________________________________________________________________________________________\n",
      "decoder_stage0_bn2 (BatchNormal (None, None, None, 2 1024        decoder_stage0_conv2[0][0]       \n",
      "__________________________________________________________________________________________________\n",
      "decoder_stage0_relu2 (Activatio (None, None, None, 2 0           decoder_stage0_bn2[0][0]         \n",
      "__________________________________________________________________________________________________\n",
      "decoder_stage1_upsample (UpSamp (None, None, None, 2 0           decoder_stage0_relu2[0][0]       \n",
      "__________________________________________________________________________________________________\n",
      "concatenate_28 (Concatenate)    (None, None, None, 5 0           decoder_stage1_upsample[0][0]    \n",
      "                                                                 mixed2[0][0]                     \n",
      "__________________________________________________________________________________________________\n",
      "decoder_stage1_conv1 (Conv2D)   (None, None, None, 1 626688      concatenate_28[0][0]             \n",
      "__________________________________________________________________________________________________\n",
      "decoder_stage1_bn1 (BatchNormal (None, None, None, 1 512         decoder_stage1_conv1[0][0]       \n",
      "__________________________________________________________________________________________________\n",
      "decoder_stage1_relu1 (Activatio (None, None, None, 1 0           decoder_stage1_bn1[0][0]         \n",
      "__________________________________________________________________________________________________\n",
      "decoder_stage1_conv2 (Conv2D)   (None, None, None, 1 147456      decoder_stage1_relu1[0][0]       \n",
      "__________________________________________________________________________________________________\n",
      "decoder_stage1_bn2 (BatchNormal (None, None, None, 1 512         decoder_stage1_conv2[0][0]       \n",
      "__________________________________________________________________________________________________\n",
      "decoder_stage1_relu2 (Activatio (None, None, None, 1 0           decoder_stage1_bn2[0][0]         \n",
      "__________________________________________________________________________________________________\n",
      "decoder_stage2_upsample (UpSamp (None, None, None, 1 0           decoder_stage1_relu2[0][0]       \n",
      "__________________________________________________________________________________________________\n",
      "concatenate_29 (Concatenate)    (None, None, None, 3 0           decoder_stage2_upsample[0][0]    \n",
      "                                                                 activation_381[0][0]             \n",
      "__________________________________________________________________________________________________\n",
      "decoder_stage2_conv1 (Conv2D)   (None, None, None, 6 184320      concatenate_29[0][0]             \n",
      "__________________________________________________________________________________________________\n",
      "decoder_stage2_bn1 (BatchNormal (None, None, None, 6 256         decoder_stage2_conv1[0][0]       \n",
      "__________________________________________________________________________________________________\n",
      "decoder_stage2_relu1 (Activatio (None, None, None, 6 0           decoder_stage2_bn1[0][0]         \n",
      "__________________________________________________________________________________________________\n",
      "decoder_stage2_conv2 (Conv2D)   (None, None, None, 6 36864       decoder_stage2_relu1[0][0]       \n",
      "__________________________________________________________________________________________________\n",
      "decoder_stage2_bn2 (BatchNormal (None, None, None, 6 256         decoder_stage2_conv2[0][0]       \n",
      "__________________________________________________________________________________________________\n",
      "decoder_stage2_relu2 (Activatio (None, None, None, 6 0           decoder_stage2_bn2[0][0]         \n",
      "__________________________________________________________________________________________________\n",
      "decoder_stage3_upsample (UpSamp (None, None, None, 6 0           decoder_stage2_relu2[0][0]       \n",
      "__________________________________________________________________________________________________\n",
      "concatenate_30 (Concatenate)    (None, None, None, 1 0           decoder_stage3_upsample[0][0]    \n",
      "                                                                 activation_379[0][0]             \n",
      "__________________________________________________________________________________________________\n",
      "decoder_stage3_conv1 (Conv2D)   (None, None, None, 3 36864       concatenate_30[0][0]             \n",
      "__________________________________________________________________________________________________\n",
      "decoder_stage3_bn1 (BatchNormal (None, None, None, 3 128         decoder_stage3_conv1[0][0]       \n",
      "__________________________________________________________________________________________________\n",
      "decoder_stage3_relu1 (Activatio (None, None, None, 3 0           decoder_stage3_bn1[0][0]         \n",
      "__________________________________________________________________________________________________\n",
      "decoder_stage3_conv2 (Conv2D)   (None, None, None, 3 9216        decoder_stage3_relu1[0][0]       \n",
      "__________________________________________________________________________________________________\n",
      "decoder_stage3_bn2 (BatchNormal (None, None, None, 3 128         decoder_stage3_conv2[0][0]       \n",
      "__________________________________________________________________________________________________\n",
      "decoder_stage3_relu2 (Activatio (None, None, None, 3 0           decoder_stage3_bn2[0][0]         \n",
      "__________________________________________________________________________________________________\n",
      "decoder_stage4_upsample (UpSamp (None, None, None, 3 0           decoder_stage3_relu2[0][0]       \n",
      "__________________________________________________________________________________________________\n",
      "decoder_stage4_conv1 (Conv2D)   (None, None, None, 1 4608        decoder_stage4_upsample[0][0]    \n",
      "__________________________________________________________________________________________________\n",
      "decoder_stage4_bn1 (BatchNormal (None, None, None, 1 64          decoder_stage4_conv1[0][0]       \n",
      "__________________________________________________________________________________________________\n",
      "decoder_stage4_relu1 (Activatio (None, None, None, 1 0           decoder_stage4_bn1[0][0]         \n",
      "__________________________________________________________________________________________________\n",
      "decoder_stage4_conv2 (Conv2D)   (None, None, None, 1 2304        decoder_stage4_relu1[0][0]       \n",
      "__________________________________________________________________________________________________\n",
      "decoder_stage4_bn2 (BatchNormal (None, None, None, 1 64          decoder_stage4_conv2[0][0]       \n",
      "__________________________________________________________________________________________________\n",
      "decoder_stage4_relu2 (Activatio (None, None, None, 1 0           decoder_stage4_bn2[0][0]         \n",
      "__________________________________________________________________________________________________\n",
      "final_conv (Conv2D)             (None, None, None, 1 145         decoder_stage4_relu2[0][0]       \n",
      "__________________________________________________________________________________________________\n",
      "sigmoid (Activation)            (None, None, None, 1 0           final_conv[0][0]                 \n",
      "==================================================================================================\n",
      "Total params: 29,933,105\n",
      "Trainable params: 29,896,689\n",
      "Non-trainable params: 36,416\n",
      "__________________________________________________________________________________________________\n"
     ]
    }
   ],
   "source": [
    "base_model.summary()"
   ]
  },
  {
   "cell_type": "code",
   "execution_count": 0,
   "metadata": {
    "colab": {},
    "colab_type": "code",
    "id": "vMAtoO9TsD9l"
   },
   "outputs": [],
   "source": [
    "import tensorflow as tf\n",
    "from keras.optimizers import Adam\n",
    "from tensorflow.keras.losses import binary_crossentropy\n"
   ]
  },
  {
   "cell_type": "code",
   "execution_count": 0,
   "metadata": {
    "colab": {},
    "colab_type": "code",
    "id": "c5m0I3-zWo6_"
   },
   "outputs": [],
   "source": [
    "def dice_coefficient(y_true, y_pred):\n",
    "    numerator = 2 * tf.reduce_sum(y_true * y_pred)\n",
    "    denominator = tf.reduce_sum(y_true + y_pred)\n",
    "\n",
    "    return numerator / (denominator + tf.keras.backend.epsilon())"
   ]
  },
  {
   "cell_type": "code",
   "execution_count": 0,
   "metadata": {
    "colab": {},
    "colab_type": "code",
    "id": "6AzI98wcX0fi"
   },
   "outputs": [],
   "source": [
    "def loss(y_true, y_pred):\n",
    "    return binary_crossentropy(y_true, y_pred) - tf.log(dice_coefficient(y_true, y_pred) + tf.keras.backend.epsilon())"
   ]
  },
  {
   "cell_type": "code",
   "execution_count": 0,
   "metadata": {
    "colab": {},
    "colab_type": "code",
    "id": "pzTzKzJ_hbAC"
   },
   "outputs": [],
   "source": [
    "# compile model\n",
    "model.compile('Adam', loss=loss, metrics=[dice_coefficient])"
   ]
  },
  {
   "cell_type": "code",
   "execution_count": 326,
   "metadata": {
    "colab": {
     "base_uri": "https://localhost:8080/",
     "height": 1000
    },
    "colab_type": "code",
    "id": "-Pzb9Z9ZsIQN",
    "outputId": "f7097a08-4171-4f99-e14b-f29aa334d6fc"
   },
   "outputs": [
    {
     "name": "stdout",
     "output_type": "stream",
     "text": [
      "Train on 170 samples, validate on 30 samples\n",
      "Epoch 1/100\n",
      "170/170 [==============================] - 3s 15ms/step - loss: 1.3055 - dice_coefficient: 0.5380 - val_loss: 1.3167 - val_dice_coefficient: 0.5356\n",
      "Epoch 2/100\n",
      "170/170 [==============================] - 3s 15ms/step - loss: 1.3052 - dice_coefficient: 0.5380 - val_loss: 1.3163 - val_dice_coefficient: 0.5342\n",
      "Epoch 3/100\n",
      "170/170 [==============================] - 3s 15ms/step - loss: 1.3047 - dice_coefficient: 0.5379 - val_loss: 1.3173 - val_dice_coefficient: 0.5349\n",
      "Epoch 4/100\n",
      "170/170 [==============================] - 3s 15ms/step - loss: 1.3045 - dice_coefficient: 0.5381 - val_loss: 1.3175 - val_dice_coefficient: 0.5346\n",
      "Epoch 5/100\n",
      "170/170 [==============================] - 3s 15ms/step - loss: 1.3044 - dice_coefficient: 0.5382 - val_loss: 1.3162 - val_dice_coefficient: 0.5349\n",
      "Epoch 6/100\n",
      "170/170 [==============================] - 3s 15ms/step - loss: 1.3037 - dice_coefficient: 0.5385 - val_loss: 1.3154 - val_dice_coefficient: 0.5354\n",
      "Epoch 7/100\n",
      "170/170 [==============================] - 3s 15ms/step - loss: 1.3042 - dice_coefficient: 0.5379 - val_loss: 1.3160 - val_dice_coefficient: 0.5348\n",
      "Epoch 8/100\n",
      "170/170 [==============================] - 3s 15ms/step - loss: 1.3041 - dice_coefficient: 0.5382 - val_loss: 1.3182 - val_dice_coefficient: 0.5349\n",
      "Epoch 9/100\n",
      "170/170 [==============================] - 3s 15ms/step - loss: 1.3037 - dice_coefficient: 0.5388 - val_loss: 1.3154 - val_dice_coefficient: 0.5353\n",
      "Epoch 10/100\n",
      "170/170 [==============================] - 3s 15ms/step - loss: 1.3032 - dice_coefficient: 0.5387 - val_loss: 1.3169 - val_dice_coefficient: 0.5345\n",
      "Epoch 11/100\n",
      "170/170 [==============================] - 3s 15ms/step - loss: 1.3031 - dice_coefficient: 0.5385 - val_loss: 1.3153 - val_dice_coefficient: 0.5357\n",
      "Epoch 12/100\n",
      "170/170 [==============================] - 3s 15ms/step - loss: 1.3030 - dice_coefficient: 0.5387 - val_loss: 1.3160 - val_dice_coefficient: 0.5351\n",
      "Epoch 13/100\n",
      "170/170 [==============================] - 3s 15ms/step - loss: 1.3024 - dice_coefficient: 0.5386 - val_loss: 1.3140 - val_dice_coefficient: 0.5366\n",
      "Epoch 14/100\n",
      "170/170 [==============================] - 3s 15ms/step - loss: 1.3026 - dice_coefficient: 0.5389 - val_loss: 1.3149 - val_dice_coefficient: 0.5363\n",
      "Epoch 15/100\n",
      "170/170 [==============================] - 3s 15ms/step - loss: 1.3022 - dice_coefficient: 0.5392 - val_loss: 1.3173 - val_dice_coefficient: 0.5356\n",
      "Epoch 16/100\n",
      "170/170 [==============================] - 3s 15ms/step - loss: 1.3035 - dice_coefficient: 0.5389 - val_loss: 1.3162 - val_dice_coefficient: 0.5365\n",
      "Epoch 17/100\n",
      "170/170 [==============================] - 3s 15ms/step - loss: 1.3028 - dice_coefficient: 0.5386 - val_loss: 1.3152 - val_dice_coefficient: 0.5360\n",
      "Epoch 18/100\n",
      "170/170 [==============================] - 3s 15ms/step - loss: 1.3023 - dice_coefficient: 0.5387 - val_loss: 1.3151 - val_dice_coefficient: 0.5359\n",
      "Epoch 19/100\n",
      "170/170 [==============================] - 3s 15ms/step - loss: 1.3018 - dice_coefficient: 0.5390 - val_loss: 1.3155 - val_dice_coefficient: 0.5356\n",
      "Epoch 20/100\n",
      "170/170 [==============================] - 3s 15ms/step - loss: 1.3019 - dice_coefficient: 0.5395 - val_loss: 1.3126 - val_dice_coefficient: 0.5379\n",
      "Epoch 21/100\n",
      "170/170 [==============================] - 3s 15ms/step - loss: 1.3014 - dice_coefficient: 0.5392 - val_loss: 1.3151 - val_dice_coefficient: 0.5361\n",
      "Epoch 22/100\n",
      "170/170 [==============================] - 3s 15ms/step - loss: 1.3011 - dice_coefficient: 0.5394 - val_loss: 1.3141 - val_dice_coefficient: 0.5360\n",
      "Epoch 23/100\n",
      "170/170 [==============================] - 3s 15ms/step - loss: 1.3010 - dice_coefficient: 0.5392 - val_loss: 1.3139 - val_dice_coefficient: 0.5362\n",
      "Epoch 24/100\n",
      "170/170 [==============================] - 3s 15ms/step - loss: 1.3041 - dice_coefficient: 0.5385 - val_loss: 1.3242 - val_dice_coefficient: 0.5325\n",
      "Epoch 25/100\n",
      "170/170 [==============================] - 3s 15ms/step - loss: 1.3044 - dice_coefficient: 0.5385 - val_loss: 1.3203 - val_dice_coefficient: 0.5386\n",
      "Epoch 26/100\n",
      "170/170 [==============================] - 3s 15ms/step - loss: 1.3067 - dice_coefficient: 0.5380 - val_loss: 1.3702 - val_dice_coefficient: 0.5247\n",
      "Epoch 27/100\n",
      "170/170 [==============================] - 3s 15ms/step - loss: 1.3102 - dice_coefficient: 0.5369 - val_loss: 1.3550 - val_dice_coefficient: 0.5299\n",
      "Epoch 28/100\n",
      "170/170 [==============================] - 3s 15ms/step - loss: 1.3296 - dice_coefficient: 0.5312 - val_loss: 1.5948 - val_dice_coefficient: 0.4879\n",
      "Epoch 29/100\n",
      "170/170 [==============================] - 3s 15ms/step - loss: 1.3346 - dice_coefficient: 0.5305 - val_loss: 1.5821 - val_dice_coefficient: 0.4897\n",
      "Epoch 30/100\n",
      "170/170 [==============================] - 3s 15ms/step - loss: 1.3337 - dice_coefficient: 0.5318 - val_loss: 1.5767 - val_dice_coefficient: 0.4902\n",
      "Epoch 31/100\n",
      "170/170 [==============================] - 3s 15ms/step - loss: 1.3242 - dice_coefficient: 0.5340 - val_loss: 1.5717 - val_dice_coefficient: 0.4906\n",
      "Epoch 32/100\n",
      "170/170 [==============================] - 3s 15ms/step - loss: 1.3238 - dice_coefficient: 0.5335 - val_loss: 1.5686 - val_dice_coefficient: 0.4908\n",
      "Epoch 33/100\n",
      "170/170 [==============================] - 3s 15ms/step - loss: 1.3262 - dice_coefficient: 0.5330 - val_loss: 1.5727 - val_dice_coefficient: 0.4905\n",
      "Epoch 34/100\n",
      "170/170 [==============================] - 3s 15ms/step - loss: 1.3240 - dice_coefficient: 0.5332 - val_loss: 1.5607 - val_dice_coefficient: 0.4927\n",
      "Epoch 35/100\n",
      "170/170 [==============================] - 3s 15ms/step - loss: 1.3189 - dice_coefficient: 0.5346 - val_loss: 1.5152 - val_dice_coefficient: 0.5013\n",
      "Epoch 36/100\n",
      "170/170 [==============================] - 3s 15ms/step - loss: 1.3172 - dice_coefficient: 0.5352 - val_loss: 1.5263 - val_dice_coefficient: 0.4999\n",
      "Epoch 37/100\n",
      "170/170 [==============================] - 3s 15ms/step - loss: 1.3149 - dice_coefficient: 0.5361 - val_loss: 1.3930 - val_dice_coefficient: 0.5260\n",
      "Epoch 38/100\n",
      "170/170 [==============================] - 3s 15ms/step - loss: 1.3135 - dice_coefficient: 0.5360 - val_loss: 1.4156 - val_dice_coefficient: 0.5201\n",
      "Epoch 39/100\n",
      "170/170 [==============================] - 3s 15ms/step - loss: 1.3178 - dice_coefficient: 0.5350 - val_loss: 1.4784 - val_dice_coefficient: 0.5078\n",
      "Epoch 40/100\n",
      "170/170 [==============================] - 3s 15ms/step - loss: 1.3145 - dice_coefficient: 0.5361 - val_loss: 1.4368 - val_dice_coefficient: 0.5081\n",
      "Epoch 41/100\n",
      "170/170 [==============================] - 3s 15ms/step - loss: 1.3120 - dice_coefficient: 0.5364 - val_loss: 1.3880 - val_dice_coefficient: 0.5207\n",
      "Epoch 42/100\n",
      "170/170 [==============================] - 3s 15ms/step - loss: 1.3098 - dice_coefficient: 0.5375 - val_loss: 1.3657 - val_dice_coefficient: 0.5206\n",
      "Epoch 43/100\n",
      "170/170 [==============================] - 3s 15ms/step - loss: 1.3081 - dice_coefficient: 0.5379 - val_loss: 1.3794 - val_dice_coefficient: 0.5168\n",
      "Epoch 44/100\n",
      "170/170 [==============================] - 3s 15ms/step - loss: 1.3082 - dice_coefficient: 0.5377 - val_loss: 1.3293 - val_dice_coefficient: 0.5295\n",
      "Epoch 45/100\n",
      "170/170 [==============================] - 3s 15ms/step - loss: 1.3059 - dice_coefficient: 0.5386 - val_loss: 1.3203 - val_dice_coefficient: 0.5339\n",
      "Epoch 46/100\n",
      "170/170 [==============================] - 3s 15ms/step - loss: 1.3042 - dice_coefficient: 0.5390 - val_loss: 1.3205 - val_dice_coefficient: 0.5316\n",
      "Epoch 47/100\n",
      "170/170 [==============================] - 3s 15ms/step - loss: 1.3044 - dice_coefficient: 0.5390 - val_loss: 1.3256 - val_dice_coefficient: 0.5300\n",
      "Epoch 48/100\n",
      "170/170 [==============================] - 3s 15ms/step - loss: 1.3031 - dice_coefficient: 0.5395 - val_loss: 1.3297 - val_dice_coefficient: 0.5301\n",
      "Epoch 49/100\n",
      "170/170 [==============================] - 3s 15ms/step - loss: 1.3044 - dice_coefficient: 0.5389 - val_loss: 1.3453 - val_dice_coefficient: 0.5323\n",
      "Epoch 50/100\n",
      "170/170 [==============================] - 3s 15ms/step - loss: 1.3060 - dice_coefficient: 0.5388 - val_loss: 1.3266 - val_dice_coefficient: 0.5339\n",
      "Epoch 51/100\n",
      "170/170 [==============================] - 3s 15ms/step - loss: 1.3042 - dice_coefficient: 0.5392 - val_loss: 1.3589 - val_dice_coefficient: 0.5252\n",
      "Epoch 52/100\n",
      "170/170 [==============================] - 3s 15ms/step - loss: 1.3058 - dice_coefficient: 0.5390 - val_loss: 1.3312 - val_dice_coefficient: 0.5327\n",
      "Epoch 53/100\n",
      "170/170 [==============================] - 3s 15ms/step - loss: 1.3038 - dice_coefficient: 0.5395 - val_loss: 1.3227 - val_dice_coefficient: 0.5327\n",
      "Epoch 54/100\n",
      "170/170 [==============================] - 3s 15ms/step - loss: 1.3028 - dice_coefficient: 0.5391 - val_loss: 1.3267 - val_dice_coefficient: 0.5313\n",
      "Epoch 55/100\n",
      "170/170 [==============================] - 3s 15ms/step - loss: 1.3022 - dice_coefficient: 0.5398 - val_loss: 1.3218 - val_dice_coefficient: 0.5334\n",
      "Epoch 56/100\n",
      "170/170 [==============================] - 3s 15ms/step - loss: 1.3010 - dice_coefficient: 0.5403 - val_loss: 1.3280 - val_dice_coefficient: 0.5305\n",
      "Epoch 57/100\n",
      "170/170 [==============================] - 3s 15ms/step - loss: 1.3006 - dice_coefficient: 0.5401 - val_loss: 1.3178 - val_dice_coefficient: 0.5350\n",
      "Epoch 58/100\n",
      "170/170 [==============================] - 3s 15ms/step - loss: 1.2998 - dice_coefficient: 0.5405 - val_loss: 1.3109 - val_dice_coefficient: 0.5377\n",
      "Epoch 59/100\n",
      "170/170 [==============================] - 3s 15ms/step - loss: 1.2994 - dice_coefficient: 0.5406 - val_loss: 1.3090 - val_dice_coefficient: 0.5383\n",
      "Epoch 60/100\n",
      "170/170 [==============================] - 3s 15ms/step - loss: 1.2992 - dice_coefficient: 0.5406 - val_loss: 1.3053 - val_dice_coefficient: 0.5400\n",
      "Epoch 61/100\n",
      "170/170 [==============================] - 3s 15ms/step - loss: 1.2985 - dice_coefficient: 0.5409 - val_loss: 1.3088 - val_dice_coefficient: 0.5375\n",
      "Epoch 62/100\n",
      "170/170 [==============================] - 3s 15ms/step - loss: 1.2980 - dice_coefficient: 0.5409 - val_loss: 1.3075 - val_dice_coefficient: 0.5382\n",
      "Epoch 63/100\n",
      "170/170 [==============================] - 3s 15ms/step - loss: 1.2988 - dice_coefficient: 0.5405 - val_loss: 1.3060 - val_dice_coefficient: 0.5395\n",
      "Epoch 64/100\n",
      "170/170 [==============================] - 3s 15ms/step - loss: 1.2988 - dice_coefficient: 0.5406 - val_loss: 1.3060 - val_dice_coefficient: 0.5398\n",
      "Epoch 65/100\n",
      "170/170 [==============================] - 3s 15ms/step - loss: 1.2983 - dice_coefficient: 0.5410 - val_loss: 1.3071 - val_dice_coefficient: 0.5382\n",
      "Epoch 66/100\n",
      "170/170 [==============================] - 3s 15ms/step - loss: 1.2979 - dice_coefficient: 0.5413 - val_loss: 1.3060 - val_dice_coefficient: 0.5399\n",
      "Epoch 67/100\n",
      "170/170 [==============================] - 3s 15ms/step - loss: 1.2977 - dice_coefficient: 0.5411 - val_loss: 1.3087 - val_dice_coefficient: 0.5388\n",
      "Epoch 68/100\n",
      "170/170 [==============================] - 3s 15ms/step - loss: 1.2974 - dice_coefficient: 0.5408 - val_loss: 1.3074 - val_dice_coefficient: 0.5375\n",
      "Epoch 69/100\n",
      "170/170 [==============================] - 3s 15ms/step - loss: 1.2971 - dice_coefficient: 0.5414 - val_loss: 1.3059 - val_dice_coefficient: 0.5396\n",
      "Epoch 70/100\n",
      "170/170 [==============================] - 3s 15ms/step - loss: 1.2969 - dice_coefficient: 0.5414 - val_loss: 1.3058 - val_dice_coefficient: 0.5399\n",
      "Epoch 71/100\n",
      "170/170 [==============================] - 3s 15ms/step - loss: 1.2966 - dice_coefficient: 0.5412 - val_loss: 1.3065 - val_dice_coefficient: 0.5398\n",
      "Epoch 72/100\n",
      "170/170 [==============================] - 3s 15ms/step - loss: 1.2962 - dice_coefficient: 0.5412 - val_loss: 1.3061 - val_dice_coefficient: 0.5395\n",
      "Epoch 73/100\n",
      "170/170 [==============================] - 3s 15ms/step - loss: 1.2963 - dice_coefficient: 0.5413 - val_loss: 1.3087 - val_dice_coefficient: 0.5389\n",
      "Epoch 74/100\n",
      "170/170 [==============================] - 3s 15ms/step - loss: 1.2964 - dice_coefficient: 0.5415 - val_loss: 1.3061 - val_dice_coefficient: 0.5400\n",
      "Epoch 75/100\n",
      "170/170 [==============================] - 3s 15ms/step - loss: 1.2963 - dice_coefficient: 0.5416 - val_loss: 1.3073 - val_dice_coefficient: 0.5395\n",
      "Epoch 76/100\n",
      "170/170 [==============================] - 3s 15ms/step - loss: 1.2961 - dice_coefficient: 0.5414 - val_loss: 1.3065 - val_dice_coefficient: 0.5398\n",
      "Epoch 77/100\n",
      "170/170 [==============================] - 3s 15ms/step - loss: 1.2959 - dice_coefficient: 0.5413 - val_loss: 1.3059 - val_dice_coefficient: 0.5392\n",
      "Epoch 78/100\n",
      "170/170 [==============================] - 3s 15ms/step - loss: 1.2958 - dice_coefficient: 0.5414 - val_loss: 1.3074 - val_dice_coefficient: 0.5397\n",
      "Epoch 79/100\n",
      "170/170 [==============================] - 3s 15ms/step - loss: 1.2959 - dice_coefficient: 0.5414 - val_loss: 1.3051 - val_dice_coefficient: 0.5401\n",
      "Epoch 80/100\n",
      "170/170 [==============================] - 3s 15ms/step - loss: 1.2952 - dice_coefficient: 0.5412 - val_loss: 1.3061 - val_dice_coefficient: 0.5394\n",
      "Epoch 81/100\n",
      "170/170 [==============================] - 3s 15ms/step - loss: 1.2951 - dice_coefficient: 0.5415 - val_loss: 1.3061 - val_dice_coefficient: 0.5390\n",
      "Epoch 82/100\n",
      "170/170 [==============================] - 3s 15ms/step - loss: 1.2955 - dice_coefficient: 0.5412 - val_loss: 1.3057 - val_dice_coefficient: 0.5400\n",
      "Epoch 83/100\n",
      "170/170 [==============================] - 3s 15ms/step - loss: 1.2947 - dice_coefficient: 0.5417 - val_loss: 1.3051 - val_dice_coefficient: 0.5405\n",
      "Epoch 84/100\n",
      "170/170 [==============================] - 3s 15ms/step - loss: 1.2950 - dice_coefficient: 0.5414 - val_loss: 1.3096 - val_dice_coefficient: 0.5389\n",
      "Epoch 85/100\n",
      "170/170 [==============================] - 3s 15ms/step - loss: 1.2947 - dice_coefficient: 0.5413 - val_loss: 1.3094 - val_dice_coefficient: 0.5398\n",
      "Epoch 86/100\n",
      "170/170 [==============================] - 3s 15ms/step - loss: 1.2946 - dice_coefficient: 0.5415 - val_loss: 1.3066 - val_dice_coefficient: 0.5394\n",
      "Epoch 87/100\n",
      "170/170 [==============================] - 3s 15ms/step - loss: 1.2947 - dice_coefficient: 0.5417 - val_loss: 1.3051 - val_dice_coefficient: 0.5409\n",
      "Epoch 88/100\n",
      "170/170 [==============================] - 3s 15ms/step - loss: 1.2947 - dice_coefficient: 0.5410 - val_loss: 1.3126 - val_dice_coefficient: 0.5389\n",
      "Epoch 89/100\n",
      "170/170 [==============================] - 3s 15ms/step - loss: 1.2950 - dice_coefficient: 0.5413 - val_loss: 1.3109 - val_dice_coefficient: 0.5378\n",
      "Epoch 90/100\n",
      "170/170 [==============================] - 3s 15ms/step - loss: 1.2946 - dice_coefficient: 0.5415 - val_loss: 1.3081 - val_dice_coefficient: 0.5373\n",
      "Epoch 91/100\n",
      "170/170 [==============================] - 3s 15ms/step - loss: 1.2946 - dice_coefficient: 0.5415 - val_loss: 1.3054 - val_dice_coefficient: 0.5410\n",
      "Epoch 92/100\n",
      "170/170 [==============================] - 3s 15ms/step - loss: 1.2942 - dice_coefficient: 0.5416 - val_loss: 1.3068 - val_dice_coefficient: 0.5380\n",
      "Epoch 93/100\n",
      "170/170 [==============================] - 3s 15ms/step - loss: 1.2943 - dice_coefficient: 0.5407 - val_loss: 1.3108 - val_dice_coefficient: 0.5374\n",
      "Epoch 94/100\n",
      "170/170 [==============================] - 3s 15ms/step - loss: 1.2935 - dice_coefficient: 0.5415 - val_loss: 1.3126 - val_dice_coefficient: 0.5385\n",
      "Epoch 95/100\n",
      "170/170 [==============================] - 3s 15ms/step - loss: 1.2940 - dice_coefficient: 0.5418 - val_loss: 1.3116 - val_dice_coefficient: 0.5378\n",
      "Epoch 96/100\n",
      "170/170 [==============================] - 3s 15ms/step - loss: 1.2935 - dice_coefficient: 0.5414 - val_loss: 1.3127 - val_dice_coefficient: 0.5374\n",
      "Epoch 97/100\n",
      "170/170 [==============================] - 3s 15ms/step - loss: 1.2932 - dice_coefficient: 0.5415 - val_loss: 1.3129 - val_dice_coefficient: 0.5387\n",
      "Epoch 98/100\n",
      "170/170 [==============================] - 3s 15ms/step - loss: 1.2924 - dice_coefficient: 0.5417 - val_loss: 1.3131 - val_dice_coefficient: 0.5386\n",
      "Epoch 99/100\n",
      "170/170 [==============================] - 3s 15ms/step - loss: 1.2924 - dice_coefficient: 0.5418 - val_loss: 1.3130 - val_dice_coefficient: 0.5379\n",
      "Epoch 100/100\n",
      "170/170 [==============================] - 3s 15ms/step - loss: 1.2919 - dice_coefficient: 0.5414 - val_loss: 1.3135 - val_dice_coefficient: 0.5397\n"
     ]
    },
    {
     "data": {
      "text/plain": [
       "<keras.callbacks.History at 0x7ff07119d5f8>"
      ]
     },
     "execution_count": 326,
     "metadata": {
      "tags": []
     },
     "output_type": "execute_result"
    }
   ],
   "source": [
    "# fit model\n",
    "model.fit(\n",
    "    x=x_train,\n",
    "    y=y_train,\n",
    "    batch_size=10,    \n",
    "    epochs=100,\n",
    "    validation_data=(x_val, y_valid),\n",
    ")"
   ]
  },
  {
   "cell_type": "code",
   "execution_count": 327,
   "metadata": {
    "colab": {
     "base_uri": "https://localhost:8080/",
     "height": 51
    },
    "colab_type": "code",
    "id": "pji6TRYu0oV-",
    "outputId": "f4f6a1c4-7a6f-4c15-86f5-42d2fb53a9e8"
   },
   "outputs": [
    {
     "name": "stdout",
     "output_type": "stream",
     "text": [
      "\r",
      "30/30 [==============================] - 0s 4ms/step\n"
     ]
    },
    {
     "data": {
      "text/plain": [
       "[1.3125312328338623, 0.5400059223175049]"
      ]
     },
     "execution_count": 327,
     "metadata": {
      "tags": []
     },
     "output_type": "execute_result"
    }
   ],
   "source": [
    "model.evaluate(x_val, y_valid, verbose=1)"
   ]
  },
  {
   "cell_type": "code",
   "execution_count": 328,
   "metadata": {
    "colab": {
     "base_uri": "https://localhost:8080/",
     "height": 51
    },
    "colab_type": "code",
    "id": "YhG5iOxz4QSH",
    "outputId": "7fc2d5d8-2428-402e-c413-7f4d91914506"
   },
   "outputs": [
    {
     "name": "stdout",
     "output_type": "stream",
     "text": [
      "170/170 [==============================] - 1s 3ms/step\n",
      "30/30 [==============================] - 0s 2ms/step\n"
     ]
    }
   ],
   "source": [
    "# Predict on train, val and test\n",
    "preds_train = model.predict(x_train, verbose=1)\n",
    "preds_val = model.predict(x_val, verbose=1)\n",
    "\n",
    "import numpy as np\n",
    "\n",
    "# Threshold predictions\n",
    "# preds_train_t = (preds_train > 0.5).astype(np.uint8)\n",
    "# preds_val_t = (preds_val > 0.5).astype(np.uint8)"
   ]
  },
  {
   "cell_type": "code",
   "execution_count": 329,
   "metadata": {
    "colab": {
     "base_uri": "https://localhost:8080/",
     "height": 34
    },
    "colab_type": "code",
    "id": "eaUsEyZgfPIR",
    "outputId": "6967d1ad-8857-45c3-b386-1a03ad7e2add"
   },
   "outputs": [
    {
     "data": {
      "text/plain": [
       "(128, 128, 3)"
      ]
     },
     "execution_count": 329,
     "metadata": {
      "tags": []
     },
     "output_type": "execute_result"
    }
   ],
   "source": [
    "preds_train[0].shape"
   ]
  },
  {
   "cell_type": "code",
   "execution_count": 330,
   "metadata": {
    "colab": {
     "base_uri": "https://localhost:8080/",
     "height": 34
    },
    "colab_type": "code",
    "id": "iM55AgpabY-b",
    "outputId": "60dcd669-5d29-4075-f997-19349a2fbc6a"
   },
   "outputs": [
    {
     "name": "stdout",
     "output_type": "stream",
     "text": [
      "Saved model to disk\n"
     ]
    }
   ],
   "source": [
    "#Save weights\n",
    "from keras.models import model_from_json\n",
    "\n",
    "# serialize model to JSON\n",
    "model_json = model.to_json()\n",
    "with open(\"model.json\", \"w\") as json_file:\n",
    "    json_file.write(model_json)\n",
    "# serialize weights to HDF5\n",
    "model.save_weights(\"model.h5\")\n",
    "print(\"Saved model to disk\")"
   ]
  },
  {
   "cell_type": "code",
   "execution_count": 0,
   "metadata": {
    "colab": {},
    "colab_type": "code",
    "id": "MO-sD5eo9WUm"
   },
   "outputs": [],
   "source": [
    "import matplotlib.pyplot as plt"
   ]
  },
  {
   "cell_type": "code",
   "execution_count": 333,
   "metadata": {
    "colab": {
     "base_uri": "https://localhost:8080/",
     "height": 286
    },
    "colab_type": "code",
    "id": "ynYPxbGMLjlo",
    "outputId": "06b3ec7c-3948-43a9-af08-5343266d4569"
   },
   "outputs": [
    {
     "data": {
      "text/plain": [
       "<matplotlib.image.AxesImage at 0x7ff070f7f128>"
      ]
     },
     "execution_count": 333,
     "metadata": {
      "tags": []
     },
     "output_type": "execute_result"
    },
    {
     "data": {
      "image/png": "[encoded data removed]",
      "text/plain": [
       "<Figure size 432x288 with 1 Axes>"
      ]
     },
     "metadata": {
      "tags": []
     },
     "output_type": "display_data"
    }
   ],
   "source": [
    "plt.imshow(x_train[2])"
   ]
  },
  {
   "cell_type": "code",
   "execution_count": 335,
   "metadata": {
    "colab": {
     "base_uri": "https://localhost:8080/",
     "height": 323
    },
    "colab_type": "code",
    "id": "3ZTBIkdpLqjF",
    "outputId": "d77e07a2-bfa3-49fa-dfd5-9af65a0d3601"
   },
   "outputs": [
    {
     "name": "stderr",
     "output_type": "stream",
     "text": [
      "W0723 19:59:19.444928 140684545148800 image.py:648] Clipping input data to the valid range for imshow with RGB data ([0..1] for floats or [0..255] for integers).\n"
     ]
    },
    {
     "data": {
      "text/plain": [
       "<matplotlib.image.AxesImage at 0x7ff071041128>"
      ]
     },
     "execution_count": 335,
     "metadata": {
      "tags": []
     },
     "output_type": "execute_result"
    },
    {
     "data": {
      "image/png": "[encoded data removed]",
      "text/plain": [
       "<Figure size 432x288 with 1 Axes>"
      ]
     },
     "metadata": {
      "tags": []
     },
     "output_type": "display_data"
    }
   ],
   "source": [
    "plt.imshow(preds_train[2])"
   ]
  },
  {
   "cell_type": "code",
   "execution_count": 0,
   "metadata": {
    "colab": {},
    "colab_type": "code",
    "id": "FIjWiGPfO5tm"
   },
   "outputs": [],
   "source": []
  }
 ],
 "metadata": {
  "accelerator": "GPU",
  "colab": {
   "collapsed_sections": [],
   "name": "Copy of Copy_of_UNET_with_Imagenet_Semantic_Segmentation.ipynb",
   "provenance": [],
   "version": "0.3.2"
  },
  "kernelspec": {
   "display_name": "Python 3",
   "language": "python",
   "name": "python3"
  },
  "language_info": {
   "codemirror_mode": {
    "name": "ipython",
    "version": 3
   },
   "file_extension": ".py",
   "mimetype": "text/x-python",
   "name": "python",
   "nbconvert_exporter": "python",
   "pygments_lexer": "ipython3",
   "version": "3.7.3"
  }
 },
 "nbformat": 4,
 "nbformat_minor": 1
}
